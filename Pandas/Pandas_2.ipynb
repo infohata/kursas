{
 "cells": [
  {
   "attachments": {},
   "cell_type": "markdown",
   "metadata": {},
   "source": [
    "# Pandas II dalis"
   ]
  },
  {
   "cell_type": "code",
   "execution_count": 1,
   "metadata": {},
   "outputs": [],
   "source": [
    "import numpy as np\n",
    "import pandas as pd"
   ]
  },
  {
   "attachments": {},
   "cell_type": "markdown",
   "metadata": {},
   "source": [
    "### Trūkstami duomenys"
   ]
  },
  {
   "attachments": {},
   "cell_type": "markdown",
   "metadata": {},
   "source": [
    "Susikursime pavyzdį:"
   ]
  },
  {
   "cell_type": "code",
   "execution_count": 9,
   "metadata": {},
   "outputs": [],
   "source": [
    "df = pd.DataFrame(np.random.rand(5,6), \n",
    "    ['a', 'b', 'c', 'd', 'e'], \n",
    "    ['U', 'V', 'W', 'X', 'Y', 'Z']\n",
    ")"
   ]
  },
  {
   "cell_type": "code",
   "execution_count": 10,
   "metadata": {},
   "outputs": [
    {
     "data": {
      "text/html": [
       "<div>\n",
       "<style scoped>\n",
       "    .dataframe tbody tr th:only-of-type {\n",
       "        vertical-align: middle;\n",
       "    }\n",
       "\n",
       "    .dataframe tbody tr th {\n",
       "        vertical-align: top;\n",
       "    }\n",
       "\n",
       "    .dataframe thead th {\n",
       "        text-align: right;\n",
       "    }\n",
       "</style>\n",
       "<table border=\"1\" class=\"dataframe\">\n",
       "  <thead>\n",
       "    <tr style=\"text-align: right;\">\n",
       "      <th></th>\n",
       "      <th>U</th>\n",
       "      <th>V</th>\n",
       "      <th>W</th>\n",
       "      <th>X</th>\n",
       "      <th>Y</th>\n",
       "      <th>Z</th>\n",
       "    </tr>\n",
       "  </thead>\n",
       "  <tbody>\n",
       "    <tr>\n",
       "      <th>a</th>\n",
       "      <td>0.051452</td>\n",
       "      <td>0.376998</td>\n",
       "      <td>0.797141</td>\n",
       "      <td>0.519334</td>\n",
       "      <td>0.304315</td>\n",
       "      <td>0.913364</td>\n",
       "    </tr>\n",
       "    <tr>\n",
       "      <th>b</th>\n",
       "      <td>0.785179</td>\n",
       "      <td>0.016646</td>\n",
       "      <td>0.060747</td>\n",
       "      <td>0.101700</td>\n",
       "      <td>0.191101</td>\n",
       "      <td>0.404771</td>\n",
       "    </tr>\n",
       "    <tr>\n",
       "      <th>c</th>\n",
       "      <td>0.631691</td>\n",
       "      <td>0.405930</td>\n",
       "      <td>0.265270</td>\n",
       "      <td>0.974581</td>\n",
       "      <td>0.238785</td>\n",
       "      <td>0.151366</td>\n",
       "    </tr>\n",
       "    <tr>\n",
       "      <th>d</th>\n",
       "      <td>0.172182</td>\n",
       "      <td>0.081203</td>\n",
       "      <td>0.753900</td>\n",
       "      <td>0.870966</td>\n",
       "      <td>0.284495</td>\n",
       "      <td>0.783459</td>\n",
       "    </tr>\n",
       "    <tr>\n",
       "      <th>e</th>\n",
       "      <td>0.540161</td>\n",
       "      <td>0.055711</td>\n",
       "      <td>0.681771</td>\n",
       "      <td>0.407751</td>\n",
       "      <td>0.738715</td>\n",
       "      <td>0.288996</td>\n",
       "    </tr>\n",
       "  </tbody>\n",
       "</table>\n",
       "</div>"
      ],
      "text/plain": [
       "          U         V         W         X         Y         Z\n",
       "a  0.051452  0.376998  0.797141  0.519334  0.304315  0.913364\n",
       "b  0.785179  0.016646  0.060747  0.101700  0.191101  0.404771\n",
       "c  0.631691  0.405930  0.265270  0.974581  0.238785  0.151366\n",
       "d  0.172182  0.081203  0.753900  0.870966  0.284495  0.783459\n",
       "e  0.540161  0.055711  0.681771  0.407751  0.738715  0.288996"
      ]
     },
     "execution_count": 10,
     "metadata": {},
     "output_type": "execute_result"
    }
   ],
   "source": [
    "df"
   ]
  },
  {
   "cell_type": "code",
   "execution_count": 11,
   "metadata": {},
   "outputs": [],
   "source": [
    "table = df[df>.15]"
   ]
  },
  {
   "cell_type": "code",
   "execution_count": 12,
   "metadata": {},
   "outputs": [
    {
     "data": {
      "text/html": [
       "<div>\n",
       "<style scoped>\n",
       "    .dataframe tbody tr th:only-of-type {\n",
       "        vertical-align: middle;\n",
       "    }\n",
       "\n",
       "    .dataframe tbody tr th {\n",
       "        vertical-align: top;\n",
       "    }\n",
       "\n",
       "    .dataframe thead th {\n",
       "        text-align: right;\n",
       "    }\n",
       "</style>\n",
       "<table border=\"1\" class=\"dataframe\">\n",
       "  <thead>\n",
       "    <tr style=\"text-align: right;\">\n",
       "      <th></th>\n",
       "      <th>U</th>\n",
       "      <th>V</th>\n",
       "      <th>W</th>\n",
       "      <th>X</th>\n",
       "      <th>Y</th>\n",
       "      <th>Z</th>\n",
       "    </tr>\n",
       "  </thead>\n",
       "  <tbody>\n",
       "    <tr>\n",
       "      <th>a</th>\n",
       "      <td>NaN</td>\n",
       "      <td>0.376998</td>\n",
       "      <td>0.797141</td>\n",
       "      <td>0.519334</td>\n",
       "      <td>0.304315</td>\n",
       "      <td>0.913364</td>\n",
       "    </tr>\n",
       "    <tr>\n",
       "      <th>b</th>\n",
       "      <td>0.785179</td>\n",
       "      <td>NaN</td>\n",
       "      <td>NaN</td>\n",
       "      <td>NaN</td>\n",
       "      <td>0.191101</td>\n",
       "      <td>0.404771</td>\n",
       "    </tr>\n",
       "    <tr>\n",
       "      <th>c</th>\n",
       "      <td>0.631691</td>\n",
       "      <td>0.405930</td>\n",
       "      <td>0.265270</td>\n",
       "      <td>0.974581</td>\n",
       "      <td>0.238785</td>\n",
       "      <td>0.151366</td>\n",
       "    </tr>\n",
       "    <tr>\n",
       "      <th>d</th>\n",
       "      <td>0.172182</td>\n",
       "      <td>NaN</td>\n",
       "      <td>0.753900</td>\n",
       "      <td>0.870966</td>\n",
       "      <td>0.284495</td>\n",
       "      <td>0.783459</td>\n",
       "    </tr>\n",
       "    <tr>\n",
       "      <th>e</th>\n",
       "      <td>0.540161</td>\n",
       "      <td>NaN</td>\n",
       "      <td>0.681771</td>\n",
       "      <td>0.407751</td>\n",
       "      <td>0.738715</td>\n",
       "      <td>0.288996</td>\n",
       "    </tr>\n",
       "  </tbody>\n",
       "</table>\n",
       "</div>"
      ],
      "text/plain": [
       "          U         V         W         X         Y         Z\n",
       "a       NaN  0.376998  0.797141  0.519334  0.304315  0.913364\n",
       "b  0.785179       NaN       NaN       NaN  0.191101  0.404771\n",
       "c  0.631691  0.405930  0.265270  0.974581  0.238785  0.151366\n",
       "d  0.172182       NaN  0.753900  0.870966  0.284495  0.783459\n",
       "e  0.540161       NaN  0.681771  0.407751  0.738715  0.288996"
      ]
     },
     "execution_count": 12,
     "metadata": {},
     "output_type": "execute_result"
    }
   ],
   "source": [
    "table"
   ]
  },
  {
   "attachments": {},
   "cell_type": "markdown",
   "metadata": {},
   "source": [
    "Funkcija, padėsianti mums aptikti nulines reikšmes yra **.isnull()**. Naudojimo pavyzdžiai:"
   ]
  },
  {
   "cell_type": "code",
   "execution_count": 13,
   "metadata": {},
   "outputs": [
    {
     "data": {
      "text/html": [
       "<div>\n",
       "<style scoped>\n",
       "    .dataframe tbody tr th:only-of-type {\n",
       "        vertical-align: middle;\n",
       "    }\n",
       "\n",
       "    .dataframe tbody tr th {\n",
       "        vertical-align: top;\n",
       "    }\n",
       "\n",
       "    .dataframe thead th {\n",
       "        text-align: right;\n",
       "    }\n",
       "</style>\n",
       "<table border=\"1\" class=\"dataframe\">\n",
       "  <thead>\n",
       "    <tr style=\"text-align: right;\">\n",
       "      <th></th>\n",
       "      <th>U</th>\n",
       "      <th>V</th>\n",
       "      <th>W</th>\n",
       "      <th>X</th>\n",
       "      <th>Y</th>\n",
       "      <th>Z</th>\n",
       "    </tr>\n",
       "  </thead>\n",
       "  <tbody>\n",
       "    <tr>\n",
       "      <th>a</th>\n",
       "      <td>True</td>\n",
       "      <td>False</td>\n",
       "      <td>False</td>\n",
       "      <td>True</td>\n",
       "      <td>False</td>\n",
       "      <td>False</td>\n",
       "      <td>False</td>\n",
       "      <td>False</td>\n",
       "    </tr>\n",
       "    <tr>\n",
       "      <th>b</th>\n",
       "      <td>False</td>\n",
       "      <td>True</td>\n",
       "      <td>True</td>\n",
       "      <td>True</td>\n",
       "      <td>False</td>\n",
       "      <td>False</td>\n",
       "    </tr>\n",
       "    <tr>\n",
       "      <th>c</th>\n",
       "      <td>False</td>\n",
       "      <td>False</td>\n",
       "      <td>False</td>\n",
       "      <td>False</td>\n",
       "      <td>False</td>\n",
       "      <td>False</td>\n",
       "    </tr>\n",
       "    <tr>\n",
       "      <th>d</th>\n",
       "      <td>False</td>\n",
       "      <td>True</td>\n",
       "      <td>False</td>\n",
       "      <td>False</td>\n",
       "      <td>False</td>\n",
       "      <td>False</td>\n",
       "    </tr>\n",
       "    <tr>\n",
       "      <th>e</th>\n",
       "      <td>False</td>\n",
       "      <td>True</td>\n",
       "      <td>False</td>\n",
       "      <td>False</td>\n",
       "      <td>False</td>\n",
       "      <td>False</td>\n",
       "    </tr>\n",
       "  </tbody>\n",
       "</table>\n",
       "</div>"
      ],
      "text/plain": [
       "       U      V      W      X      Y      Z\n",
       "a   True  False  False  False  False  False\n",
       "b  False   True   True   True  False  False\n",
       "c  False  False  False  False  False  False\n",
       "d  False   True  False  False  False  False\n",
       "e  False   True  False  False  False  False"
      ]
     },
     "execution_count": 13,
     "metadata": {},
     "output_type": "execute_result"
    }
   ],
   "source": [
    "table.isnull() #grąžina lentelę, kur true reikšmės yra NaN"
   ]
  },
  {
   "cell_type": "code",
   "execution_count": 14,
   "metadata": {},
   "outputs": [
    {
     "data": {
      "text/plain": [
       "U    1\n",
       "V    3\n",
       "W    1\n",
       "X    1\n",
       "Y    0\n",
       "Z    0\n",
       "dtype: int64"
      ]
     },
     "execution_count": 14,
     "metadata": {},
     "output_type": "execute_result"
    }
   ],
   "source": [
    "table.isnull().sum() # Rodo kiek kuriame stulpelyje NaN reikšmių"
   ]
  },
  {
   "cell_type": "code",
   "execution_count": 15,
   "metadata": {},
   "outputs": [
    {
     "data": {
      "text/plain": [
       "a    False\n",
       "b     True\n",
       "c    False\n",
       "d     True\n",
       "e     True\n",
       "Name: V, dtype: bool"
      ]
     },
     "execution_count": 15,
     "metadata": {},
     "output_type": "execute_result"
    }
   ],
   "source": [
    "table['V'].isnull() # Galima tikrinti atskiruose stulpeliuose"
   ]
  },
  {
   "cell_type": "code",
   "execution_count": 16,
   "metadata": {},
   "outputs": [
    {
     "data": {
      "text/plain": [
       "3"
      ]
     },
     "execution_count": 16,
     "metadata": {},
     "output_type": "execute_result"
    }
   ],
   "source": [
    "table['V'].isnull().sum()"
   ]
  },
  {
   "attachments": {},
   "cell_type": "markdown",
   "metadata": {},
   "source": [
    "pirmas metodas tvarkytis su trūkstamais duomenimis yra **.dropna()**. Jis išmeta visas eilutes, kuriose yra bent viena NaN reikšmė:"
   ]
  },
  {
   "cell_type": "code",
   "execution_count": 17,
   "metadata": {},
   "outputs": [
    {
     "data": {
      "text/html": [
       "<div>\n",
       "<style scoped>\n",
       "    .dataframe tbody tr th:only-of-type {\n",
       "        vertical-align: middle;\n",
       "    }\n",
       "\n",
       "    .dataframe tbody tr th {\n",
       "        vertical-align: top;\n",
       "    }\n",
       "\n",
       "    .dataframe thead th {\n",
       "        text-align: right;\n",
       "    }\n",
       "</style>\n",
       "<table border=\"1\" class=\"dataframe\">\n",
       "  <thead>\n",
       "    <tr style=\"text-align: right;\">\n",
       "      <th></th>\n",
       "      <th>U</th>\n",
       "      <th>V</th>\n",
       "      <th>W</th>\n",
       "      <th>X</th>\n",
       "      <th>Y</th>\n",
       "      <th>Z</th>\n",
       "    </tr>\n",
       "  </thead>\n",
       "  <tbody>\n",
       "    <tr>\n",
       "      <th>c</th>\n",
       "      <td>0.631691</td>\n",
       "      <td>0.40593</td>\n",
       "      <td>0.26527</td>\n",
       "      <td>0.974581</td>\n",
       "      <td>0.238785</td>\n",
       "      <td>0.151366</td>\n",
       "    </tr>\n",
       "  </tbody>\n",
       "</table>\n",
       "</div>"
      ],
      "text/plain": [
       "          U        V        W         X         Y         Z\n",
       "c  0.631691  0.40593  0.26527  0.974581  0.238785  0.151366"
      ]
     },
     "execution_count": 17,
     "metadata": {},
     "output_type": "execute_result"
    }
   ],
   "source": [
    "table.dropna()"
   ]
  },
  {
   "attachments": {},
   "cell_type": "markdown",
   "metadata": {},
   "source": [
    "jeigu norime išmesti stulpelius, turinčius bent vieną NaN, turime nurodyti ašį:"
   ]
  },
  {
   "cell_type": "code",
   "execution_count": 18,
   "metadata": {},
   "outputs": [
    {
     "data": {
      "text/html": [
       "<div>\n",
       "<style scoped>\n",
       "    .dataframe tbody tr th:only-of-type {\n",
       "        vertical-align: middle;\n",
       "    }\n",
       "\n",
       "    .dataframe tbody tr th {\n",
       "        vertical-align: top;\n",
       "    }\n",
       "\n",
       "    .dataframe thead th {\n",
       "        text-align: right;\n",
       "    }\n",
       "</style>\n",
       "<table border=\"1\" class=\"dataframe\">\n",
       "  <thead>\n",
       "    <tr style=\"text-align: right;\">\n",
       "      <th></th>\n",
       "      <th>Y</th>\n",
       "      <th>Z</th>\n",
       "    </tr>\n",
       "  </thead>\n",
       "  <tbody>\n",
       "    <tr>\n",
       "      <th>a</th>\n",
       "      <td>0.304315</td>\n",
       "      <td>0.913364</td>\n",
       "    </tr>\n",
       "    <tr>\n",
       "      <th>b</th>\n",
       "      <td>0.191101</td>\n",
       "      <td>0.404771</td>\n",
       "    </tr>\n",
       "    <tr>\n",
       "      <th>c</th>\n",
       "      <td>0.238785</td>\n",
       "      <td>0.151366</td>\n",
       "    </tr>\n",
       "    <tr>\n",
       "      <th>d</th>\n",
       "      <td>0.284495</td>\n",
       "      <td>0.783459</td>\n",
       "    </tr>\n",
       "    <tr>\n",
       "      <th>e</th>\n",
       "      <td>0.738715</td>\n",
       "      <td>0.288996</td>\n",
       "    </tr>\n",
       "  </tbody>\n",
       "</table>\n",
       "</div>"
      ],
      "text/plain": [
       "          Y         Z\n",
       "a  0.304315  0.913364\n",
       "b  0.191101  0.404771\n",
       "c  0.238785  0.151366\n",
       "d  0.284495  0.783459\n",
       "e  0.738715  0.288996"
      ]
     },
     "execution_count": 18,
     "metadata": {},
     "output_type": "execute_result"
    }
   ],
   "source": [
    "table.dropna(axis=1)"
   ]
  },
  {
   "attachments": {},
   "cell_type": "markdown",
   "metadata": {},
   "source": [
    "Galime išmesti tik tas eilutes, ar stulpelius, kurie turi mažiau, negu (pvz) 5 **NE** NaN reikšmes:\n"
   ]
  },
  {
   "cell_type": "code",
   "execution_count": 19,
   "metadata": {},
   "outputs": [
    {
     "data": {
      "text/html": [
       "<div>\n",
       "<style scoped>\n",
       "    .dataframe tbody tr th:only-of-type {\n",
       "        vertical-align: middle;\n",
       "    }\n",
       "\n",
       "    .dataframe tbody tr th {\n",
       "        vertical-align: top;\n",
       "    }\n",
       "\n",
       "    .dataframe thead th {\n",
       "        text-align: right;\n",
       "    }\n",
       "</style>\n",
       "<table border=\"1\" class=\"dataframe\">\n",
       "  <thead>\n",
       "    <tr style=\"text-align: right;\">\n",
       "      <th></th>\n",
       "      <th>U</th>\n",
       "      <th>V</th>\n",
       "      <th>W</th>\n",
       "      <th>X</th>\n",
       "      <th>Y</th>\n",
       "      <th>Z</th>\n",
       "    </tr>\n",
       "  </thead>\n",
       "  <tbody>\n",
       "    <tr>\n",
       "      <th>a</th>\n",
       "      <td>NaN</td>\n",
       "      <td>0.376998</td>\n",
       "      <td>0.797141</td>\n",
       "      <td>0.519334</td>\n",
       "      <td>0.304315</td>\n",
       "      <td>0.913364</td>\n",
       "    </tr>\n",
       "    <tr>\n",
       "      <th>c</th>\n",
       "      <td>0.631691</td>\n",
       "      <td>0.405930</td>\n",
       "      <td>0.265270</td>\n",
       "      <td>0.974581</td>\n",
       "      <td>0.238785</td>\n",
       "      <td>0.151366</td>\n",
       "    </tr>\n",
       "    <tr>\n",
       "      <th>d</th>\n",
       "      <td>0.172182</td>\n",
       "      <td>NaN</td>\n",
       "      <td>0.753900</td>\n",
       "      <td>0.870966</td>\n",
       "      <td>0.284495</td>\n",
       "      <td>0.783459</td>\n",
       "    </tr>\n",
       "    <tr>\n",
       "      <th>e</th>\n",
       "      <td>0.540161</td>\n",
       "      <td>NaN</td>\n",
       "      <td>0.681771</td>\n",
       "      <td>0.407751</td>\n",
       "      <td>0.738715</td>\n",
       "      <td>0.288996</td>\n",
       "    </tr>\n",
       "  </tbody>\n",
       "</table>\n",
       "</div>"
      ],
      "text/plain": [
       "          U         V         W         X         Y         Z\n",
       "a       NaN  0.376998  0.797141  0.519334  0.304315  0.913364\n",
       "c  0.631691  0.405930  0.265270  0.974581  0.238785  0.151366\n",
       "d  0.172182       NaN  0.753900  0.870966  0.284495  0.783459\n",
       "e  0.540161       NaN  0.681771  0.407751  0.738715  0.288996"
      ]
     },
     "execution_count": 19,
     "metadata": {},
     "output_type": "execute_result"
    }
   ],
   "source": [
    "table.dropna(thresh=5)"
   ]
  },
  {
   "attachments": {},
   "cell_type": "markdown",
   "metadata": {},
   "source": [
    "Papildomai nurodžius ašį, tą patį galima padaryti ir su stulpeliais."
   ]
  },
  {
   "cell_type": "code",
   "execution_count": 22,
   "metadata": {},
   "outputs": [
    {
     "data": {
      "text/html": [
       "<div>\n",
       "<style scoped>\n",
       "    .dataframe tbody tr th:only-of-type {\n",
       "        vertical-align: middle;\n",
       "    }\n",
       "\n",
       "    .dataframe tbody tr th {\n",
       "        vertical-align: top;\n",
       "    }\n",
       "\n",
       "    .dataframe thead th {\n",
       "        text-align: right;\n",
       "    }\n",
       "</style>\n",
       "<table border=\"1\" class=\"dataframe\">\n",
       "  <thead>\n",
       "    <tr style=\"text-align: right;\">\n",
       "      <th></th>\n",
       "      <th>U</th>\n",
       "      <th>W</th>\n",
       "      <th>X</th>\n",
       "      <th>Y</th>\n",
       "      <th>Z</th>\n",
       "    </tr>\n",
       "  </thead>\n",
       "  <tbody>\n",
       "    <tr>\n",
       "      <th>a</th>\n",
       "      <td>NaN</td>\n",
       "      <td>0.797141</td>\n",
       "      <td>0.519334</td>\n",
       "      <td>0.304315</td>\n",
       "      <td>0.913364</td>\n",
       "    </tr>\n",
       "    <tr>\n",
       "      <th>b</th>\n",
       "      <td>0.785179</td>\n",
       "      <td>NaN</td>\n",
       "      <td>NaN</td>\n",
       "      <td>0.191101</td>\n",
       "      <td>0.404771</td>\n",
       "    </tr>\n",
       "    <tr>\n",
       "      <th>c</th>\n",
       "      <td>0.631691</td>\n",
       "      <td>0.265270</td>\n",
       "      <td>0.974581</td>\n",
       "      <td>0.238785</td>\n",
       "      <td>0.151366</td>\n",
       "    </tr>\n",
       "    <tr>\n",
       "      <th>d</th>\n",
       "      <td>0.172182</td>\n",
       "      <td>0.753900</td>\n",
       "      <td>0.870966</td>\n",
       "      <td>0.284495</td>\n",
       "      <td>0.783459</td>\n",
       "    </tr>\n",
       "    <tr>\n",
       "      <th>e</th>\n",
       "      <td>0.540161</td>\n",
       "      <td>0.681771</td>\n",
       "      <td>0.407751</td>\n",
       "      <td>0.738715</td>\n",
       "      <td>0.288996</td>\n",
       "    </tr>\n",
       "  </tbody>\n",
       "</table>\n",
       "</div>"
      ],
      "text/plain": [
       "          U         W         X         Y         Z\n",
       "a       NaN  0.797141  0.519334  0.304315  0.913364\n",
       "b  0.785179       NaN       NaN  0.191101  0.404771\n",
       "c  0.631691  0.265270  0.974581  0.238785  0.151366\n",
       "d  0.172182  0.753900  0.870966  0.284495  0.783459\n",
       "e  0.540161  0.681771  0.407751  0.738715  0.288996"
      ]
     },
     "execution_count": 22,
     "metadata": {},
     "output_type": "execute_result"
    }
   ],
   "source": [
    "table.dropna(thresh=4, axis=1)"
   ]
  },
  {
   "attachments": {},
   "cell_type": "markdown",
   "metadata": {},
   "source": [
    "Jei norime NaN reikšmes pakeisti kažkuo kitu, naudosime **.fillna()** metodą:"
   ]
  },
  {
   "cell_type": "code",
   "execution_count": 23,
   "metadata": {},
   "outputs": [
    {
     "data": {
      "text/html": [
       "<div>\n",
       "<style scoped>\n",
       "    .dataframe tbody tr th:only-of-type {\n",
       "        vertical-align: middle;\n",
       "    }\n",
       "\n",
       "    .dataframe tbody tr th {\n",
       "        vertical-align: top;\n",
       "    }\n",
       "\n",
       "    .dataframe thead th {\n",
       "        text-align: right;\n",
       "    }\n",
       "</style>\n",
       "<table border=\"1\" class=\"dataframe\">\n",
       "  <thead>\n",
       "    <tr style=\"text-align: right;\">\n",
       "      <th></th>\n",
       "      <th>U</th>\n",
       "      <th>V</th>\n",
       "      <th>W</th>\n",
       "      <th>X</th>\n",
       "      <th>Y</th>\n",
       "      <th>Z</th>\n",
       "    </tr>\n",
       "  </thead>\n",
       "  <tbody>\n",
       "    <tr>\n",
       "      <th>a</th>\n",
       "      <td>kiauras</td>\n",
       "      <td>0.376998</td>\n",
       "      <td>0.797141</td>\n",
       "      <td>0.519334</td>\n",
       "      <td>0.304315</td>\n",
       "      <td>0.913364</td>\n",
       "    </tr>\n",
       "    <tr>\n",
       "      <th>b</th>\n",
       "      <td>0.785179</td>\n",
       "      <td>kiauras</td>\n",
       "      <td>kiauras</td>\n",
       "      <td>kiauras</td>\n",
       "      <td>0.191101</td>\n",
       "      <td>0.404771</td>\n",
       "    </tr>\n",
       "    <tr>\n",
       "      <th>c</th>\n",
       "      <td>0.631691</td>\n",
       "      <td>0.40593</td>\n",
       "      <td>0.26527</td>\n",
       "      <td>0.974581</td>\n",
       "      <td>0.238785</td>\n",
       "      <td>0.151366</td>\n",
       "    </tr>\n",
       "    <tr>\n",
       "      <th>d</th>\n",
       "      <td>0.172182</td>\n",
       "      <td>kiauras</td>\n",
       "      <td>0.7539</td>\n",
       "      <td>0.870966</td>\n",
       "      <td>0.284495</td>\n",
       "      <td>0.783459</td>\n",
       "    </tr>\n",
       "    <tr>\n",
       "      <th>e</th>\n",
       "      <td>0.540161</td>\n",
       "      <td>kiauras</td>\n",
       "      <td>0.681771</td>\n",
       "      <td>0.407751</td>\n",
       "      <td>0.738715</td>\n",
       "      <td>0.288996</td>\n",
       "    </tr>\n",
       "  </tbody>\n",
       "</table>\n",
       "</div>"
      ],
      "text/plain": [
       "          U         V         W         X         Y         Z\n",
       "a   kiauras  0.376998  0.797141  0.519334  0.304315  0.913364\n",
       "b  0.785179   kiauras   kiauras   kiauras  0.191101  0.404771\n",
       "c  0.631691   0.40593   0.26527  0.974581  0.238785  0.151366\n",
       "d  0.172182   kiauras    0.7539  0.870966  0.284495  0.783459\n",
       "e  0.540161   kiauras  0.681771  0.407751  0.738715  0.288996"
      ]
     },
     "execution_count": 23,
     "metadata": {},
     "output_type": "execute_result"
    }
   ],
   "source": [
    "table.fillna('kiauras')"
   ]
  },
  {
   "attachments": {},
   "cell_type": "markdown",
   "metadata": {},
   "source": [
    "Daugiau prasmės būtų pakeisti pvz. stulpelio vidurkiu:"
   ]
  },
  {
   "cell_type": "code",
   "execution_count": 24,
   "metadata": {},
   "outputs": [
    {
     "data": {
      "text/plain": [
       "a    0.797141\n",
       "b    0.624520\n",
       "c    0.265270\n",
       "d    0.753900\n",
       "e    0.681771\n",
       "Name: W, dtype: float64"
      ]
     },
     "execution_count": 24,
     "metadata": {},
     "output_type": "execute_result"
    }
   ],
   "source": [
    "table['W'].fillna(value=table['W'].mean())"
   ]
  },
  {
   "cell_type": "code",
   "execution_count": 26,
   "metadata": {},
   "outputs": [
    {
     "data": {
      "text/plain": [
       "a    0.376998\n",
       "b    0.391464\n",
       "c    0.405930\n",
       "d    0.391464\n",
       "e    0.391464\n",
       "Name: V, dtype: float64"
      ]
     },
     "execution_count": 26,
     "metadata": {},
     "output_type": "execute_result"
    }
   ],
   "source": [
    "table['V'].fillna(value=table['V'].mean())"
   ]
  },
  {
   "cell_type": "code",
   "execution_count": 27,
   "metadata": {},
   "outputs": [
    {
     "data": {
      "text/html": [
       "<div>\n",
       "<style scoped>\n",
       "    .dataframe tbody tr th:only-of-type {\n",
       "        vertical-align: middle;\n",
       "    }\n",
       "\n",
       "    .dataframe tbody tr th {\n",
       "        vertical-align: top;\n",
       "    }\n",
       "\n",
       "    .dataframe thead th {\n",
       "        text-align: right;\n",
       "    }\n",
       "</style>\n",
       "<table border=\"1\" class=\"dataframe\">\n",
       "  <thead>\n",
       "    <tr style=\"text-align: right;\">\n",
       "      <th></th>\n",
       "      <th>U</th>\n",
       "      <th>V</th>\n",
       "      <th>W</th>\n",
       "      <th>X</th>\n",
       "      <th>Y</th>\n",
       "      <th>Z</th>\n",
       "    </tr>\n",
       "  </thead>\n",
       "  <tbody>\n",
       "    <tr>\n",
       "      <th>a</th>\n",
       "      <td>0.532303</td>\n",
       "      <td>0.376998</td>\n",
       "      <td>0.797141</td>\n",
       "      <td>0.519334</td>\n",
       "      <td>0.304315</td>\n",
       "      <td>0.913364</td>\n",
       "    </tr>\n",
       "    <tr>\n",
       "      <th>b</th>\n",
       "      <td>0.785179</td>\n",
       "      <td>0.391464</td>\n",
       "      <td>0.624520</td>\n",
       "      <td>0.693158</td>\n",
       "      <td>0.191101</td>\n",
       "      <td>0.404771</td>\n",
       "    </tr>\n",
       "    <tr>\n",
       "      <th>c</th>\n",
       "      <td>0.631691</td>\n",
       "      <td>0.405930</td>\n",
       "      <td>0.265270</td>\n",
       "      <td>0.974581</td>\n",
       "      <td>0.238785</td>\n",
       "      <td>0.151366</td>\n",
       "    </tr>\n",
       "    <tr>\n",
       "      <th>d</th>\n",
       "      <td>0.172182</td>\n",
       "      <td>0.391464</td>\n",
       "      <td>0.753900</td>\n",
       "      <td>0.870966</td>\n",
       "      <td>0.284495</td>\n",
       "      <td>0.783459</td>\n",
       "    </tr>\n",
       "    <tr>\n",
       "      <th>e</th>\n",
       "      <td>0.540161</td>\n",
       "      <td>0.391464</td>\n",
       "      <td>0.681771</td>\n",
       "      <td>0.407751</td>\n",
       "      <td>0.738715</td>\n",
       "      <td>0.288996</td>\n",
       "    </tr>\n",
       "  </tbody>\n",
       "</table>\n",
       "</div>"
      ],
      "text/plain": [
       "          U         V         W         X         Y         Z\n",
       "a  0.532303  0.376998  0.797141  0.519334  0.304315  0.913364\n",
       "b  0.785179  0.391464  0.624520  0.693158  0.191101  0.404771\n",
       "c  0.631691  0.405930  0.265270  0.974581  0.238785  0.151366\n",
       "d  0.172182  0.391464  0.753900  0.870966  0.284495  0.783459\n",
       "e  0.540161  0.391464  0.681771  0.407751  0.738715  0.288996"
      ]
     },
     "execution_count": 27,
     "metadata": {},
     "output_type": "execute_result"
    }
   ],
   "source": [
    "table.fillna(value=table.mean())"
   ]
  },
  {
   "attachments": {},
   "cell_type": "markdown",
   "metadata": {},
   "source": [
    "### Grupavimas"
   ]
  },
  {
   "attachments": {},
   "cell_type": "markdown",
   "metadata": {},
   "source": [
    "Susikurkime pavyzdį:"
   ]
  },
  {
   "cell_type": "code",
   "execution_count": 28,
   "metadata": {},
   "outputs": [],
   "source": [
    "duomenys = {\n",
    "    'Šalis': [\n",
    "        'Lietuva', 'Lietuva', 'Lietuva',\n",
    "        'Latvija', 'Latvija', 'Latvija',\n",
    "        'Estija', 'Estija', 'Estija'\n",
    "    ],\n",
    "    'Miestas': [\n",
    "        'Vilnius', 'Kaunas', 'Klaipėda',\n",
    "        'Ryga', 'Ventspilis', 'Daugpilis',\n",
    "        'Talinas', 'Tartu', 'Pernu'\n",
    "    ],\n",
    "    'Gyv': [\n",
    "        541, 287, 147, \n",
    "        716, 43, 105, \n",
    "        400, 101, 46\n",
    "    ]\n",
    "}"
   ]
  },
  {
   "cell_type": "code",
   "execution_count": 29,
   "metadata": {},
   "outputs": [],
   "source": [
    "data = pd.DataFrame(duomenys)"
   ]
  },
  {
   "cell_type": "code",
   "execution_count": 30,
   "metadata": {},
   "outputs": [
    {
     "data": {
      "text/html": [
       "<div>\n",
       "<style scoped>\n",
       "    .dataframe tbody tr th:only-of-type {\n",
       "        vertical-align: middle;\n",
       "    }\n",
       "\n",
       "    .dataframe tbody tr th {\n",
       "        vertical-align: top;\n",
       "    }\n",
       "\n",
       "    .dataframe thead th {\n",
       "        text-align: right;\n",
       "    }\n",
       "</style>\n",
       "<table border=\"1\" class=\"dataframe\">\n",
       "  <thead>\n",
       "    <tr style=\"text-align: right;\">\n",
       "      <th></th>\n",
       "      <th>Šalis</th>\n",
       "      <th>Miestas</th>\n",
       "      <th>Gyv</th>\n",
       "    </tr>\n",
       "  </thead>\n",
       "  <tbody>\n",
       "    <tr>\n",
       "      <th>0</th>\n",
       "      <td>Lietuva</td>\n",
       "      <td>Vilnius</td>\n",
       "      <td>541</td>\n",
       "    </tr>\n",
       "    <tr>\n",
       "      <th>1</th>\n",
       "      <td>Lietuva</td>\n",
       "      <td>Kaunas</td>\n",
       "      <td>287</td>\n",
       "    </tr>\n",
       "    <tr>\n",
       "      <th>2</th>\n",
       "      <td>Lietuva</td>\n",
       "      <td>Klaipėda</td>\n",
       "      <td>147</td>\n",
       "    </tr>\n",
       "    <tr>\n",
       "      <th>3</th>\n",
       "      <td>Latvija</td>\n",
       "      <td>Ryga</td>\n",
       "      <td>716</td>\n",
       "    </tr>\n",
       "    <tr>\n",
       "      <th>4</th>\n",
       "      <td>Latvija</td>\n",
       "      <td>Ventspilis</td>\n",
       "      <td>43</td>\n",
       "    </tr>\n",
       "    <tr>\n",
       "      <th>5</th>\n",
       "      <td>Latvija</td>\n",
       "      <td>Daugpilis</td>\n",
       "      <td>105</td>\n",
       "    </tr>\n",
       "    <tr>\n",
       "      <th>6</th>\n",
       "      <td>Estija</td>\n",
       "      <td>Talinas</td>\n",
       "      <td>400</td>\n",
       "    </tr>\n",
       "    <tr>\n",
       "      <th>7</th>\n",
       "      <td>Estija</td>\n",
       "      <td>Tartu</td>\n",
       "      <td>101</td>\n",
       "    </tr>\n",
       "    <tr>\n",
       "      <th>8</th>\n",
       "      <td>Estija</td>\n",
       "      <td>Pernu</td>\n",
       "      <td>46</td>\n",
       "    </tr>\n",
       "  </tbody>\n",
       "</table>\n",
       "</div>"
      ],
      "text/plain": [
       "     Šalis     Miestas  Gyv\n",
       "0  Lietuva     Vilnius  541\n",
       "1  Lietuva      Kaunas  287\n",
       "2  Lietuva    Klaipėda  147\n",
       "3  Latvija        Ryga  716\n",
       "4  Latvija  Ventspilis   43\n",
       "5  Latvija   Daugpilis  105\n",
       "6   Estija     Talinas  400\n",
       "7   Estija       Tartu  101\n",
       "8   Estija       Pernu   46"
      ]
     },
     "execution_count": 30,
     "metadata": {},
     "output_type": "execute_result"
    }
   ],
   "source": [
    "data"
   ]
  },
  {
   "attachments": {},
   "cell_type": "markdown",
   "metadata": {},
   "source": [
    "panaudokime **.groupby()** metodą, viduje nurodydami stulpelį, pagal kurį grupuosime. "
   ]
  },
  {
   "cell_type": "code",
   "execution_count": 33,
   "metadata": {},
   "outputs": [
    {
     "data": {
      "text/plain": [
       "<pandas.core.groupby.generic.DataFrameGroupBy object at 0x7fc6db4eb520>"
      ]
     },
     "execution_count": 33,
     "metadata": {},
     "output_type": "execute_result"
    }
   ],
   "source": [
    "data.groupby('Šalis')"
   ]
  },
  {
   "attachments": {},
   "cell_type": "markdown",
   "metadata": {},
   "source": [
    "gavome groupby objektą, kuris turi savo metodus. Tam kad galėtumėm jais naudotis, priskirkime objektą kintamąjam:"
   ]
  },
  {
   "cell_type": "code",
   "execution_count": 35,
   "metadata": {},
   "outputs": [],
   "source": [
    "baltic = data.groupby('Šalis')"
   ]
  },
  {
   "cell_type": "code",
   "execution_count": 38,
   "metadata": {},
   "outputs": [
    {
     "data": {
      "text/plain": [
       "<pandas.core.groupby.generic.DataFrameGroupBy object at 0x7fc6db4eafb0>"
      ]
     },
     "execution_count": 38,
     "metadata": {},
     "output_type": "execute_result"
    }
   ],
   "source": [
    "baltic\n"
   ]
  },
  {
   "attachments": {},
   "cell_type": "markdown",
   "metadata": {},
   "source": [
    "**.mean()** skaičiuos mums vidurkį:"
   ]
  },
  {
   "cell_type": "code",
   "execution_count": 42,
   "metadata": {},
   "outputs": [
    {
     "data": {
      "text/html": [
       "<div>\n",
       "<style scoped>\n",
       "    .dataframe tbody tr th:only-of-type {\n",
       "        vertical-align: middle;\n",
       "    }\n",
       "\n",
       "    .dataframe tbody tr th {\n",
       "        vertical-align: top;\n",
       "    }\n",
       "\n",
       "    .dataframe thead th {\n",
       "        text-align: right;\n",
       "    }\n",
       "</style>\n",
       "<table border=\"1\" class=\"dataframe\">\n",
       "  <thead>\n",
       "    <tr style=\"text-align: right;\">\n",
       "      <th></th>\n",
       "      <th>Gyv</th>\n",
       "    </tr>\n",
       "    <tr>\n",
       "      <th>Šalis</th>\n",
       "      <th></th>\n",
       "    </tr>\n",
       "  </thead>\n",
       "  <tbody>\n",
       "    <tr>\n",
       "      <th>Estija</th>\n",
       "      <td>182.333333</td>\n",
       "    </tr>\n",
       "    <tr>\n",
       "      <th>Latvija</th>\n",
       "      <td>288.000000</td>\n",
       "    </tr>\n",
       "    <tr>\n",
       "      <th>Lietuva</th>\n",
       "      <td>325.000000</td>\n",
       "    </tr>\n",
       "  </tbody>\n",
       "</table>\n",
       "</div>"
      ],
      "text/plain": [
       "Šalis\n",
       "Estija     182.333333\n",
       "Latvija    288.000000\n",
       "Lietuva    325.000000\n",
       "Name: Gyv, dtype: float64"
      ]
     },
     "execution_count": 42,
     "metadata": {},
     "output_type": "execute_result"
    }
   ],
   "source": [
    "baltic.mean(numeric_only=True)"
   ]
  },
  {
   "attachments": {},
   "cell_type": "markdown",
   "metadata": {},
   "source": [
    "**.sum()** sumuos:"
   ]
  },
  {
   "cell_type": "code",
   "execution_count": 43,
   "metadata": {},
   "outputs": [
    {
     "data": {
      "text/html": [
       "<div>\n",
       "<style scoped>\n",
       "    .dataframe tbody tr th:only-of-type {\n",
       "        vertical-align: middle;\n",
       "    }\n",
       "\n",
       "    .dataframe tbody tr th {\n",
       "        vertical-align: top;\n",
       "    }\n",
       "\n",
       "    .dataframe thead th {\n",
       "        text-align: right;\n",
       "    }\n",
       "</style>\n",
       "<table border=\"1\" class=\"dataframe\">\n",
       "  <thead>\n",
       "    <tr style=\"text-align: right;\">\n",
       "      <th></th>\n",
       "      <th>Miestas</th>\n",
       "      <th>Gyv</th>\n",
       "    </tr>\n",
       "    <tr>\n",
       "      <th>Šalis</th>\n",
       "      <th></th>\n",
       "      <th></th>\n",
       "    </tr>\n",
       "  </thead>\n",
       "  <tbody>\n",
       "    <tr>\n",
       "      <th>Estija</th>\n",
       "      <td>547</td>\n",
       "    </tr>\n",
       "    <tr>\n",
       "      <th>Latvija</th>\n",
       "      <td>864</td>\n",
       "    </tr>\n",
       "    <tr>\n",
       "      <th>Lietuva</th>\n",
       "      <td>975</td>\n",
       "    </tr>\n",
       "  </tbody>\n",
       "</table>\n",
       "</div>"
      ],
      "text/plain": [
       "                         Miestas  Gyv\n",
       "Šalis                                \n",
       "Estija         TalinasTartuPernu  547\n",
       "Latvija  RygaVentspilisDaugpilis  864\n",
       "Lietuva    VilniusKaunasKlaipėda  975"
      ]
     },
     "execution_count": 43,
     "metadata": {},
     "output_type": "execute_result"
    }
   ],
   "source": [
    "baltic.sum(numeric_only=True)"
   ]
  },
  {
   "attachments": {},
   "cell_type": "markdown",
   "metadata": {},
   "source": [
    "iš groupby objekto galime trukti reikšmes tokiu būdu:"
   ]
  },
  {
   "attachments": {},
   "cell_type": "markdown",
   "metadata": {},
   "source": [
    "**.count()** suskaičiuos kiek yra įrašų grupės stulpeliuose:"
   ]
  },
  {
   "cell_type": "code",
   "execution_count": 44,
   "metadata": {},
   "outputs": [
    {
     "data": {
      "text/html": [
       "<div>\n",
       "<style scoped>\n",
       "    .dataframe tbody tr th:only-of-type {\n",
       "        vertical-align: middle;\n",
       "    }\n",
       "\n",
       "    .dataframe tbody tr th {\n",
       "        vertical-align: top;\n",
       "    }\n",
       "\n",
       "    .dataframe thead th {\n",
       "        text-align: right;\n",
       "    }\n",
       "</style>\n",
       "<table border=\"1\" class=\"dataframe\">\n",
       "  <thead>\n",
       "    <tr style=\"text-align: right;\">\n",
       "      <th></th>\n",
       "      <th>Miestas</th>\n",
       "      <th>Gyv</th>\n",
       "    </tr>\n",
       "    <tr>\n",
       "      <th>Šalis</th>\n",
       "      <th></th>\n",
       "      <th></th>\n",
       "    </tr>\n",
       "  </thead>\n",
       "  <tbody>\n",
       "    <tr>\n",
       "      <th>Estija</th>\n",
       "      <td>3</td>\n",
       "      <td>3</td>\n",
       "    </tr>\n",
       "    <tr>\n",
       "      <th>Latvija</th>\n",
       "      <td>3</td>\n",
       "      <td>3</td>\n",
       "    </tr>\n",
       "    <tr>\n",
       "      <th>Lietuva</th>\n",
       "      <td>3</td>\n",
       "      <td>3</td>\n",
       "    </tr>\n",
       "  </tbody>\n",
       "</table>\n",
       "</div>"
      ],
      "text/plain": [
       "         Miestas  Gyv\n",
       "Šalis                \n",
       "Estija         3    3\n",
       "Latvija        3    3\n",
       "Lietuva        3    3"
      ]
     },
     "execution_count": 44,
     "metadata": {},
     "output_type": "execute_result"
    }
   ],
   "source": [
    "baltic.count()"
   ]
  },
  {
   "attachments": {},
   "cell_type": "markdown",
   "metadata": {},
   "source": [
    "*atkreipkite dėmesį, kad jeigu metodas negali atlikti veiksmo su stulpelio įrašais, rezultate to stulpelio ir nerodo. šiuo atveju galime suskaičiuoti string įrašus, todėl stulpelis 'Miestas' įtrauktas į rezultatą*"
   ]
  },
  {
   "attachments": {},
   "cell_type": "markdown",
   "metadata": {},
   "source": [
    "**.max()** duos eilutę su maksimaliu, **.min()** su minimaliu rezultatais:"
   ]
  },
  {
   "cell_type": "code",
   "execution_count": 47,
   "metadata": {},
   "outputs": [
    {
     "data": {
      "text/html": [
       "<div>\n",
       "<style scoped>\n",
       "    .dataframe tbody tr th:only-of-type {\n",
       "        vertical-align: middle;\n",
       "    }\n",
       "\n",
       "    .dataframe tbody tr th {\n",
       "        vertical-align: top;\n",
       "    }\n",
       "\n",
       "    .dataframe thead th {\n",
       "        text-align: right;\n",
       "    }\n",
       "</style>\n",
       "<table border=\"1\" class=\"dataframe\">\n",
       "  <thead>\n",
       "    <tr style=\"text-align: right;\">\n",
       "      <th></th>\n",
       "      <th>Gyv</th>\n",
       "    </tr>\n",
       "    <tr>\n",
       "      <th>Šalis</th>\n",
       "      <th></th>\n",
       "    </tr>\n",
       "  </thead>\n",
       "  <tbody>\n",
       "    <tr>\n",
       "      <th>Estija</th>\n",
       "      <td>400</td>\n",
       "    </tr>\n",
       "    <tr>\n",
       "      <th>Latvija</th>\n",
       "      <td>716</td>\n",
       "    </tr>\n",
       "    <tr>\n",
       "      <th>Lietuva</th>\n",
       "      <td>541</td>\n",
       "    </tr>\n",
       "  </tbody>\n",
       "</table>\n",
       "</div>"
      ],
      "text/plain": [
       "         Gyv\n",
       "Šalis       \n",
       "Estija   400\n",
       "Latvija  716\n",
       "Lietuva  541"
      ]
     },
     "execution_count": 47,
     "metadata": {},
     "output_type": "execute_result"
    }
   ],
   "source": [
    "baltic.max(numeric_only=True)"
   ]
  },
  {
   "cell_type": "code",
   "execution_count": 48,
   "metadata": {},
   "outputs": [
    {
     "data": {
      "text/html": [
       "<div>\n",
       "<style scoped>\n",
       "    .dataframe tbody tr th:only-of-type {\n",
       "        vertical-align: middle;\n",
       "    }\n",
       "\n",
       "    .dataframe tbody tr th {\n",
       "        vertical-align: top;\n",
       "    }\n",
       "\n",
       "    .dataframe thead th {\n",
       "        text-align: right;\n",
       "    }\n",
       "</style>\n",
       "<table border=\"1\" class=\"dataframe\">\n",
       "  <thead>\n",
       "    <tr style=\"text-align: right;\">\n",
       "      <th></th>\n",
       "      <th>Gyv</th>\n",
       "    </tr>\n",
       "    <tr>\n",
       "      <th>Šalis</th>\n",
       "      <th></th>\n",
       "    </tr>\n",
       "  </thead>\n",
       "  <tbody>\n",
       "    <tr>\n",
       "      <th>Estija</th>\n",
       "      <td>46</td>\n",
       "    </tr>\n",
       "    <tr>\n",
       "      <th>Latvija</th>\n",
       "      <td>43</td>\n",
       "    </tr>\n",
       "    <tr>\n",
       "      <th>Lietuva</th>\n",
       "      <td>147</td>\n",
       "    </tr>\n",
       "  </tbody>\n",
       "</table>\n",
       "</div>"
      ],
      "text/plain": [
       "         Gyv\n",
       "Šalis       \n",
       "Estija    46\n",
       "Latvija   43\n",
       "Lietuva  147"
      ]
     },
     "execution_count": 48,
     "metadata": {},
     "output_type": "execute_result"
    }
   ],
   "source": [
    "baltic.min(numeric_only=True)"
   ]
  },
  {
   "attachments": {},
   "cell_type": "markdown",
   "metadata": {},
   "source": [
    "šiuo atveju matome, kad miestų stulpelį išrūšiavo pagal abėcelę, o skaičius, kaip ir tikėjomės. Max ir min nėra labai praktiški su *string* tipo reikšmėmis."
   ]
  },
  {
   "attachments": {},
   "cell_type": "markdown",
   "metadata": {},
   "source": [
    "iš **groupby** objektų galime traukti reikšmes:"
   ]
  },
  {
   "cell_type": "code",
   "execution_count": 50,
   "metadata": {},
   "outputs": [
    {
     "data": {
      "text/plain": [
       "Miestas    VilniusKaunasKlaipėda\n",
       "Gyv                          975\n",
       "Name: Lietuva, dtype: object"
      ]
     },
     "execution_count": 50,
     "metadata": {},
     "output_type": "execute_result"
    }
   ],
   "source": [
    "baltic.sum().loc['Lietuva']"
   ]
  },
  {
   "attachments": {},
   "cell_type": "markdown",
   "metadata": {},
   "source": [
    "**.describe()** metodas duoda pagrindinę informaciją apie lentelės duomenis:"
   ]
  },
  {
   "cell_type": "code",
   "execution_count": 51,
   "metadata": {},
   "outputs": [
    {
     "data": {
      "text/html": [
       "<div>\n",
       "<style scoped>\n",
       "    .dataframe tbody tr th:only-of-type {\n",
       "        vertical-align: middle;\n",
       "    }\n",
       "\n",
       "    .dataframe tbody tr th {\n",
       "        vertical-align: top;\n",
       "    }\n",
       "\n",
       "    .dataframe thead tr th {\n",
       "        text-align: left;\n",
       "    }\n",
       "\n",
       "    .dataframe thead tr:last-of-type th {\n",
       "        text-align: right;\n",
       "    }\n",
       "</style>\n",
       "<table border=\"1\" class=\"dataframe\">\n",
       "  <thead>\n",
       "    <tr>\n",
       "      <th></th>\n",
       "      <th colspan=\"8\" halign=\"left\">Gyv</th>\n",
       "    </tr>\n",
       "    <tr>\n",
       "      <th></th>\n",
       "      <th>count</th>\n",
       "      <th>mean</th>\n",
       "      <th>std</th>\n",
       "      <th>min</th>\n",
       "      <th>25%</th>\n",
       "      <th>50%</th>\n",
       "      <th>75%</th>\n",
       "      <th>max</th>\n",
       "    </tr>\n",
       "    <tr>\n",
       "      <th>Šalis</th>\n",
       "      <th></th>\n",
       "      <th></th>\n",
       "      <th></th>\n",
       "      <th></th>\n",
       "      <th></th>\n",
       "      <th></th>\n",
       "      <th></th>\n",
       "      <th></th>\n",
       "    </tr>\n",
       "  </thead>\n",
       "  <tbody>\n",
       "    <tr>\n",
       "      <th>Estija</th>\n",
       "      <td>3.0</td>\n",
       "      <td>182.333333</td>\n",
       "      <td>190.500219</td>\n",
       "      <td>46.0</td>\n",
       "      <td>73.5</td>\n",
       "      <td>101.0</td>\n",
       "      <td>250.5</td>\n",
       "      <td>400.0</td>\n",
       "    </tr>\n",
       "    <tr>\n",
       "      <th>Latvija</th>\n",
       "      <td>3.0</td>\n",
       "      <td>288.000000</td>\n",
       "      <td>371.952954</td>\n",
       "      <td>43.0</td>\n",
       "      <td>74.0</td>\n",
       "      <td>105.0</td>\n",
       "      <td>410.5</td>\n",
       "      <td>716.0</td>\n",
       "    </tr>\n",
       "    <tr>\n",
       "      <th>Lietuva</th>\n",
       "      <td>3.0</td>\n",
       "      <td>325.000000</td>\n",
       "      <td>199.729818</td>\n",
       "      <td>147.0</td>\n",
       "      <td>217.0</td>\n",
       "      <td>287.0</td>\n",
       "      <td>414.0</td>\n",
       "      <td>541.0</td>\n",
       "    </tr>\n",
       "  </tbody>\n",
       "</table>\n",
       "</div>"
      ],
      "text/plain": [
       "          Gyv                                                           \n",
       "        count        mean         std    min    25%    50%    75%    max\n",
       "Šalis                                                                   \n",
       "Estija    3.0  182.333333  190.500219   46.0   73.5  101.0  250.5  400.0\n",
       "Latvija   3.0  288.000000  371.952954   43.0   74.0  105.0  410.5  716.0\n",
       "Lietuva   3.0  325.000000  199.729818  147.0  217.0  287.0  414.0  541.0"
      ]
     },
     "execution_count": 51,
     "metadata": {},
     "output_type": "execute_result"
    }
   ],
   "source": [
    "baltic.describe()"
   ]
  },
  {
   "cell_type": "code",
   "execution_count": 54,
   "metadata": {},
   "outputs": [
    {
     "data": {
      "text/plain": [
       "Gyv  count      3.000000\n",
       "     mean     325.000000\n",
       "     std      199.729818\n",
       "     min      147.000000\n",
       "     25%      217.000000\n",
       "     50%      287.000000\n",
       "     75%      414.000000\n",
       "     max      541.000000\n",
       "Name: Lietuva, dtype: float64"
      ]
     },
     "execution_count": 54,
     "metadata": {},
     "output_type": "execute_result"
    }
   ],
   "source": [
    "baltic.describe().loc['Lietuva']"
   ]
  },
  {
   "attachments": {},
   "cell_type": "markdown",
   "metadata": {},
   "source": [
    "galime sukeisti stulpelius su eilutėmis su **.transpose()**:"
   ]
  },
  {
   "cell_type": "code",
   "execution_count": 52,
   "metadata": {},
   "outputs": [
    {
     "data": {
      "text/html": [
       "<div>\n",
       "<style scoped>\n",
       "    .dataframe tbody tr th:only-of-type {\n",
       "        vertical-align: middle;\n",
       "    }\n",
       "\n",
       "    .dataframe tbody tr th {\n",
       "        vertical-align: top;\n",
       "    }\n",
       "\n",
       "    .dataframe thead th {\n",
       "        text-align: right;\n",
       "    }\n",
       "</style>\n",
       "<table border=\"1\" class=\"dataframe\">\n",
       "  <thead>\n",
       "    <tr style=\"text-align: right;\">\n",
       "      <th></th>\n",
       "      <th>Šalis</th>\n",
       "      <th>Estija</th>\n",
       "      <th>Latvija</th>\n",
       "      <th>Lietuva</th>\n",
       "    </tr>\n",
       "  </thead>\n",
       "  <tbody>\n",
       "    <tr>\n",
       "      <th rowspan=\"8\" valign=\"top\">Gyv</th>\n",
       "      <th>count</th>\n",
       "      <td>3.000000</td>\n",
       "      <td>3.000000</td>\n",
       "      <td>3.000000</td>\n",
       "    </tr>\n",
       "    <tr>\n",
       "      <th>mean</th>\n",
       "      <td>182.333333</td>\n",
       "      <td>288.000000</td>\n",
       "      <td>325.000000</td>\n",
       "    </tr>\n",
       "    <tr>\n",
       "      <th>std</th>\n",
       "      <td>190.500219</td>\n",
       "      <td>371.952954</td>\n",
       "      <td>199.729818</td>\n",
       "    </tr>\n",
       "    <tr>\n",
       "      <th>min</th>\n",
       "      <td>46.000000</td>\n",
       "      <td>43.000000</td>\n",
       "      <td>147.000000</td>\n",
       "    </tr>\n",
       "    <tr>\n",
       "      <th>25%</th>\n",
       "      <td>73.500000</td>\n",
       "      <td>74.000000</td>\n",
       "      <td>217.000000</td>\n",
       "    </tr>\n",
       "    <tr>\n",
       "      <th>50%</th>\n",
       "      <td>101.000000</td>\n",
       "      <td>105.000000</td>\n",
       "      <td>287.000000</td>\n",
       "    </tr>\n",
       "    <tr>\n",
       "      <th>75%</th>\n",
       "      <td>250.500000</td>\n",
       "      <td>410.500000</td>\n",
       "      <td>414.000000</td>\n",
       "    </tr>\n",
       "    <tr>\n",
       "      <th>max</th>\n",
       "      <td>400.000000</td>\n",
       "      <td>716.000000</td>\n",
       "      <td>541.000000</td>\n",
       "    </tr>\n",
       "  </tbody>\n",
       "</table>\n",
       "</div>"
      ],
      "text/plain": [
       "Šalis          Estija     Latvija     Lietuva\n",
       "Gyv count    3.000000    3.000000    3.000000\n",
       "    mean   182.333333  288.000000  325.000000\n",
       "    std    190.500219  371.952954  199.729818\n",
       "    min     46.000000   43.000000  147.000000\n",
       "    25%     73.500000   74.000000  217.000000\n",
       "    50%    101.000000  105.000000  287.000000\n",
       "    75%    250.500000  410.500000  414.000000\n",
       "    max    400.000000  716.000000  541.000000"
      ]
     },
     "execution_count": 52,
     "metadata": {},
     "output_type": "execute_result"
    }
   ],
   "source": [
    "baltic.describe().transpose()"
   ]
  },
  {
   "attachments": {},
   "cell_type": "markdown",
   "metadata": {},
   "source": [
    "jeigu domina vieno kurio nors stulpelio statistika, galime ją ištraukti taip:"
   ]
  },
  {
   "cell_type": "code",
   "execution_count": 53,
   "metadata": {},
   "outputs": [
    {
     "data": {
      "text/plain": [
       "Gyv  count      3.000000\n",
       "     mean     182.333333\n",
       "     std      190.500219\n",
       "     min       46.000000\n",
       "     25%       73.500000\n",
       "     50%      101.000000\n",
       "     75%      250.500000\n",
       "     max      400.000000\n",
       "Name: Estija, dtype: float64"
      ]
     },
     "execution_count": 53,
     "metadata": {},
     "output_type": "execute_result"
    }
   ],
   "source": [
    "baltic.describe().transpose()['Estija']"
   ]
  },
  {
   "attachments": {},
   "cell_type": "markdown",
   "metadata": {},
   "source": [
    "### DF Jungimas"
   ]
  },
  {
   "attachments": {},
   "cell_type": "markdown",
   "metadata": {},
   "source": [
    "susikurkime pavyzdžius:"
   ]
  },
  {
   "cell_type": "code",
   "execution_count": 55,
   "metadata": {},
   "outputs": [],
   "source": [
    "data_main = data[0:6].copy()"
   ]
  },
  {
   "cell_type": "code",
   "execution_count": 56,
   "metadata": {},
   "outputs": [
    {
     "data": {
      "text/html": [
       "<div>\n",
       "<style scoped>\n",
       "    .dataframe tbody tr th:only-of-type {\n",
       "        vertical-align: middle;\n",
       "    }\n",
       "\n",
       "    .dataframe tbody tr th {\n",
       "        vertical-align: top;\n",
       "    }\n",
       "\n",
       "    .dataframe thead th {\n",
       "        text-align: right;\n",
       "    }\n",
       "</style>\n",
       "<table border=\"1\" class=\"dataframe\">\n",
       "  <thead>\n",
       "    <tr style=\"text-align: right;\">\n",
       "      <th></th>\n",
       "      <th>Šalis</th>\n",
       "      <th>Miestas</th>\n",
       "      <th>Gyv</th>\n",
       "    </tr>\n",
       "  </thead>\n",
       "  <tbody>\n",
       "    <tr>\n",
       "      <th>0</th>\n",
       "      <td>Lietuva</td>\n",
       "      <td>Vilnius</td>\n",
       "      <td>541</td>\n",
       "    </tr>\n",
       "    <tr>\n",
       "      <th>1</th>\n",
       "      <td>Lietuva</td>\n",
       "      <td>Kaunas</td>\n",
       "      <td>287</td>\n",
       "    </tr>\n",
       "    <tr>\n",
       "      <th>2</th>\n",
       "      <td>Lietuva</td>\n",
       "      <td>Klaipėda</td>\n",
       "      <td>147</td>\n",
       "    </tr>\n",
       "    <tr>\n",
       "      <th>3</th>\n",
       "      <td>Latvija</td>\n",
       "      <td>Ryga</td>\n",
       "      <td>716</td>\n",
       "    </tr>\n",
       "    <tr>\n",
       "      <th>4</th>\n",
       "      <td>Latvija</td>\n",
       "      <td>Ventspilis</td>\n",
       "      <td>43</td>\n",
       "    </tr>\n",
       "    <tr>\n",
       "      <th>5</th>\n",
       "      <td>Latvija</td>\n",
       "      <td>Daugpilis</td>\n",
       "      <td>105</td>\n",
       "    </tr>\n",
       "  </tbody>\n",
       "</table>\n",
       "</div>"
      ],
      "text/plain": [
       "     Šalis     Miestas  Gyv\n",
       "0  Lietuva     Vilnius  541\n",
       "1  Lietuva      Kaunas  287\n",
       "2  Lietuva    Klaipėda  147\n",
       "3  Latvija        Ryga  716\n",
       "4  Latvija  Ventspilis   43\n",
       "5  Latvija   Daugpilis  105"
      ]
     },
     "execution_count": 56,
     "metadata": {},
     "output_type": "execute_result"
    }
   ],
   "source": [
    "data_main"
   ]
  },
  {
   "cell_type": "code",
   "execution_count": 57,
   "metadata": {},
   "outputs": [],
   "source": [
    "data_bottom = data[6:].copy()"
   ]
  },
  {
   "cell_type": "code",
   "execution_count": 58,
   "metadata": {},
   "outputs": [
    {
     "data": {
      "text/html": [
       "<div>\n",
       "<style scoped>\n",
       "    .dataframe tbody tr th:only-of-type {\n",
       "        vertical-align: middle;\n",
       "    }\n",
       "\n",
       "    .dataframe tbody tr th {\n",
       "        vertical-align: top;\n",
       "    }\n",
       "\n",
       "    .dataframe thead th {\n",
       "        text-align: right;\n",
       "    }\n",
       "</style>\n",
       "<table border=\"1\" class=\"dataframe\">\n",
       "  <thead>\n",
       "    <tr style=\"text-align: right;\">\n",
       "      <th></th>\n",
       "      <th>Šalis</th>\n",
       "      <th>Miestas</th>\n",
       "      <th>Gyv</th>\n",
       "    </tr>\n",
       "  </thead>\n",
       "  <tbody>\n",
       "    <tr>\n",
       "      <th>6</th>\n",
       "      <td>Estija</td>\n",
       "      <td>Talinas</td>\n",
       "      <td>400</td>\n",
       "    </tr>\n",
       "    <tr>\n",
       "      <th>7</th>\n",
       "      <td>Estija</td>\n",
       "      <td>Tartu</td>\n",
       "      <td>101</td>\n",
       "    </tr>\n",
       "    <tr>\n",
       "      <th>8</th>\n",
       "      <td>Estija</td>\n",
       "      <td>Pernu</td>\n",
       "      <td>46</td>\n",
       "    </tr>\n",
       "  </tbody>\n",
       "</table>\n",
       "</div>"
      ],
      "text/plain": [
       "    Šalis  Miestas  Gyv\n",
       "6  Estija  Talinas  400\n",
       "7  Estija    Tartu  101\n",
       "8  Estija    Pernu   46"
      ]
     },
     "execution_count": 58,
     "metadata": {},
     "output_type": "execute_result"
    }
   ],
   "source": [
    "data_bottom"
   ]
  },
  {
   "attachments": {},
   "cell_type": "markdown",
   "metadata": {},
   "source": [
    "norėdami sujungti data_main su data_bottom naudosime **.concat()** metodą, viduje įrašydami lentelių, kurias jungsime sąrašą:"
   ]
  },
  {
   "cell_type": "code",
   "execution_count": 59,
   "metadata": {},
   "outputs": [
    {
     "data": {
      "text/html": [
       "<div>\n",
       "<style scoped>\n",
       "    .dataframe tbody tr th:only-of-type {\n",
       "        vertical-align: middle;\n",
       "    }\n",
       "\n",
       "    .dataframe tbody tr th {\n",
       "        vertical-align: top;\n",
       "    }\n",
       "\n",
       "    .dataframe thead th {\n",
       "        text-align: right;\n",
       "    }\n",
       "</style>\n",
       "<table border=\"1\" class=\"dataframe\">\n",
       "  <thead>\n",
       "    <tr style=\"text-align: right;\">\n",
       "      <th></th>\n",
       "      <th>Šalis</th>\n",
       "      <th>Miestas</th>\n",
       "      <th>Gyv</th>\n",
       "    </tr>\n",
       "  </thead>\n",
       "  <tbody>\n",
       "    <tr>\n",
       "      <th>0</th>\n",
       "      <td>Lietuva</td>\n",
       "      <td>Vilnius</td>\n",
       "      <td>541</td>\n",
       "    </tr>\n",
       "    <tr>\n",
       "      <th>1</th>\n",
       "      <td>Lietuva</td>\n",
       "      <td>Kaunas</td>\n",
       "      <td>287</td>\n",
       "    </tr>\n",
       "    <tr>\n",
       "      <th>2</th>\n",
       "      <td>Lietuva</td>\n",
       "      <td>Klaipėda</td>\n",
       "      <td>147</td>\n",
       "    </tr>\n",
       "    <tr>\n",
       "      <th>3</th>\n",
       "      <td>Latvija</td>\n",
       "      <td>Ryga</td>\n",
       "      <td>716</td>\n",
       "    </tr>\n",
       "    <tr>\n",
       "      <th>4</th>\n",
       "      <td>Latvija</td>\n",
       "      <td>Ventspilis</td>\n",
       "      <td>43</td>\n",
       "    </tr>\n",
       "    <tr>\n",
       "      <th>5</th>\n",
       "      <td>Latvija</td>\n",
       "      <td>Daugpilis</td>\n",
       "      <td>105</td>\n",
       "    </tr>\n",
       "    <tr>\n",
       "      <th>6</th>\n",
       "      <td>Estija</td>\n",
       "      <td>Talinas</td>\n",
       "      <td>400</td>\n",
       "    </tr>\n",
       "    <tr>\n",
       "      <th>7</th>\n",
       "      <td>Estija</td>\n",
       "      <td>Tartu</td>\n",
       "      <td>101</td>\n",
       "    </tr>\n",
       "    <tr>\n",
       "      <th>8</th>\n",
       "      <td>Estija</td>\n",
       "      <td>Pernu</td>\n",
       "      <td>46</td>\n",
       "    </tr>\n",
       "  </tbody>\n",
       "</table>\n",
       "</div>"
      ],
      "text/plain": [
       "     Šalis     Miestas  Gyv\n",
       "0  Lietuva     Vilnius  541\n",
       "1  Lietuva      Kaunas  287\n",
       "2  Lietuva    Klaipėda  147\n",
       "3  Latvija        Ryga  716\n",
       "4  Latvija  Ventspilis   43\n",
       "5  Latvija   Daugpilis  105\n",
       "6   Estija     Talinas  400\n",
       "7   Estija       Tartu  101\n",
       "8   Estija       Pernu   46"
      ]
     },
     "execution_count": 59,
     "metadata": {},
     "output_type": "execute_result"
    }
   ],
   "source": [
    "pd.concat([data_main, data_bottom])"
   ]
  },
  {
   "attachments": {},
   "cell_type": "markdown",
   "metadata": {},
   "source": [
    "galime prijungti lentelę iš dešinės:"
   ]
  },
  {
   "cell_type": "code",
   "execution_count": 60,
   "metadata": {},
   "outputs": [
    {
     "data": {
      "text/html": [
       "<div>\n",
       "<style scoped>\n",
       "    .dataframe tbody tr th:only-of-type {\n",
       "        vertical-align: middle;\n",
       "    }\n",
       "\n",
       "    .dataframe tbody tr th {\n",
       "        vertical-align: top;\n",
       "    }\n",
       "\n",
       "    .dataframe thead th {\n",
       "        text-align: right;\n",
       "    }\n",
       "</style>\n",
       "<table border=\"1\" class=\"dataframe\">\n",
       "  <thead>\n",
       "    <tr style=\"text-align: right;\">\n",
       "      <th></th>\n",
       "      <th>Šalis</th>\n",
       "      <th>Miestas</th>\n",
       "      <th>Gyv</th>\n",
       "      <th>Šalis</th>\n",
       "      <th>Miestas</th>\n",
       "      <th>Gyv</th>\n",
       "    </tr>\n",
       "  </thead>\n",
       "  <tbody>\n",
       "    <tr>\n",
       "      <th>0</th>\n",
       "      <td>Lietuva</td>\n",
       "      <td>Vilnius</td>\n",
       "      <td>541.0</td>\n",
       "      <td>NaN</td>\n",
       "      <td>NaN</td>\n",
       "      <td>NaN</td>\n",
       "    </tr>\n",
       "    <tr>\n",
       "      <th>1</th>\n",
       "      <td>Lietuva</td>\n",
       "      <td>Kaunas</td>\n",
       "      <td>287.0</td>\n",
       "      <td>NaN</td>\n",
       "      <td>NaN</td>\n",
       "      <td>NaN</td>\n",
       "    </tr>\n",
       "    <tr>\n",
       "      <th>2</th>\n",
       "      <td>Lietuva</td>\n",
       "      <td>Klaipėda</td>\n",
       "      <td>147.0</td>\n",
       "      <td>NaN</td>\n",
       "      <td>NaN</td>\n",
       "      <td>NaN</td>\n",
       "    </tr>\n",
       "    <tr>\n",
       "      <th>3</th>\n",
       "      <td>Latvija</td>\n",
       "      <td>Ryga</td>\n",
       "      <td>716.0</td>\n",
       "      <td>NaN</td>\n",
       "      <td>NaN</td>\n",
       "      <td>NaN</td>\n",
       "    </tr>\n",
       "    <tr>\n",
       "      <th>4</th>\n",
       "      <td>Latvija</td>\n",
       "      <td>Ventspilis</td>\n",
       "      <td>43.0</td>\n",
       "      <td>NaN</td>\n",
       "      <td>NaN</td>\n",
       "      <td>NaN</td>\n",
       "    </tr>\n",
       "    <tr>\n",
       "      <th>5</th>\n",
       "      <td>Latvija</td>\n",
       "      <td>Daugpilis</td>\n",
       "      <td>105.0</td>\n",
       "      <td>NaN</td>\n",
       "      <td>NaN</td>\n",
       "      <td>NaN</td>\n",
       "    </tr>\n",
       "    <tr>\n",
       "      <th>6</th>\n",
       "      <td>NaN</td>\n",
       "      <td>NaN</td>\n",
       "      <td>NaN</td>\n",
       "      <td>Estija</td>\n",
       "      <td>Talinas</td>\n",
       "      <td>400.0</td>\n",
       "    </tr>\n",
       "    <tr>\n",
       "      <th>7</th>\n",
       "      <td>NaN</td>\n",
       "      <td>NaN</td>\n",
       "      <td>NaN</td>\n",
       "      <td>Estija</td>\n",
       "      <td>Tartu</td>\n",
       "      <td>101.0</td>\n",
       "    </tr>\n",
       "    <tr>\n",
       "      <th>8</th>\n",
       "      <td>NaN</td>\n",
       "      <td>NaN</td>\n",
       "      <td>NaN</td>\n",
       "      <td>Estija</td>\n",
       "      <td>Pernu</td>\n",
       "      <td>46.0</td>\n",
       "    </tr>\n",
       "  </tbody>\n",
       "</table>\n",
       "</div>"
      ],
      "text/plain": [
       "     Šalis     Miestas    Gyv   Šalis  Miestas    Gyv\n",
       "0  Lietuva     Vilnius  541.0     NaN      NaN    NaN\n",
       "1  Lietuva      Kaunas  287.0     NaN      NaN    NaN\n",
       "2  Lietuva    Klaipėda  147.0     NaN      NaN    NaN\n",
       "3  Latvija        Ryga  716.0     NaN      NaN    NaN\n",
       "4  Latvija  Ventspilis   43.0     NaN      NaN    NaN\n",
       "5  Latvija   Daugpilis  105.0     NaN      NaN    NaN\n",
       "6      NaN         NaN    NaN  Estija  Talinas  400.0\n",
       "7      NaN         NaN    NaN  Estija    Tartu  101.0\n",
       "8      NaN         NaN    NaN  Estija    Pernu   46.0"
      ]
     },
     "execution_count": 60,
     "metadata": {},
     "output_type": "execute_result"
    }
   ],
   "source": [
    "pd.concat([data_main, data_bottom], axis=1)"
   ]
  },
  {
   "attachments": {},
   "cell_type": "markdown",
   "metadata": {},
   "source": [
    "matome, kad pandas ieškojo antroje lentelėje sutampančių indeksų, ir neradus atliko jungimą užpildant tuščias vietas NaN. Todėl jungiant, reikia įsitikinti, kad jungimui tinka abi pusės. Pertvarkykime data_right indeksą:"
   ]
  },
  {
   "cell_type": "code",
   "execution_count": 75,
   "metadata": {},
   "outputs": [],
   "source": [
    "data_right = data_bottom.reset_index()"
   ]
  },
  {
   "cell_type": "code",
   "execution_count": 76,
   "metadata": {},
   "outputs": [],
   "source": [
    "data_right.drop(columns='index', inplace=True)"
   ]
  },
  {
   "cell_type": "code",
   "execution_count": 77,
   "metadata": {},
   "outputs": [
    {
     "data": {
      "text/html": [
       "<div>\n",
       "<style scoped>\n",
       "    .dataframe tbody tr th:only-of-type {\n",
       "        vertical-align: middle;\n",
       "    }\n",
       "\n",
       "    .dataframe tbody tr th {\n",
       "        vertical-align: top;\n",
       "    }\n",
       "\n",
       "    .dataframe thead th {\n",
       "        text-align: right;\n",
       "    }\n",
       "</style>\n",
       "<table border=\"1\" class=\"dataframe\">\n",
       "  <thead>\n",
       "    <tr style=\"text-align: right;\">\n",
       "      <th></th>\n",
       "      <th>Šalis</th>\n",
       "      <th>Miestas</th>\n",
       "      <th>Gyv</th>\n",
       "    </tr>\n",
       "  </thead>\n",
       "  <tbody>\n",
       "    <tr>\n",
       "      <th>0</th>\n",
       "      <td>Estija</td>\n",
       "      <td>Talinas</td>\n",
       "      <td>400</td>\n",
       "    </tr>\n",
       "    <tr>\n",
       "      <th>1</th>\n",
       "      <td>Estija</td>\n",
       "      <td>Tartu</td>\n",
       "      <td>101</td>\n",
       "    </tr>\n",
       "    <tr>\n",
       "      <th>2</th>\n",
       "      <td>Estija</td>\n",
       "      <td>Pernu</td>\n",
       "      <td>46</td>\n",
       "    </tr>\n",
       "  </tbody>\n",
       "</table>\n",
       "</div>"
      ],
      "text/plain": [
       "    Šalis  Miestas  Gyv\n",
       "0  Estija  Talinas  400\n",
       "1  Estija    Tartu  101\n",
       "2  Estija    Pernu   46"
      ]
     },
     "execution_count": 77,
     "metadata": {},
     "output_type": "execute_result"
    }
   ],
   "source": [
    "data_right"
   ]
  },
  {
   "cell_type": "code",
   "execution_count": 78,
   "metadata": {},
   "outputs": [
    {
     "data": {
      "text/html": [
       "<div>\n",
       "<style scoped>\n",
       "    .dataframe tbody tr th:only-of-type {\n",
       "        vertical-align: middle;\n",
       "    }\n",
       "\n",
       "    .dataframe tbody tr th {\n",
       "        vertical-align: top;\n",
       "    }\n",
       "\n",
       "    .dataframe thead th {\n",
       "        text-align: right;\n",
       "    }\n",
       "</style>\n",
       "<table border=\"1\" class=\"dataframe\">\n",
       "  <thead>\n",
       "    <tr style=\"text-align: right;\">\n",
       "      <th></th>\n",
       "      <th>Šalis</th>\n",
       "      <th>Miestas</th>\n",
       "      <th>Gyv</th>\n",
       "      <th>Šalis</th>\n",
       "      <th>Miestas</th>\n",
       "      <th>Gyv</th>\n",
       "    </tr>\n",
       "  </thead>\n",
       "  <tbody>\n",
       "    <tr>\n",
       "      <th>0</th>\n",
       "      <td>Lietuva</td>\n",
       "      <td>Vilnius</td>\n",
       "      <td>541</td>\n",
       "      <td>Estija</td>\n",
       "      <td>Talinas</td>\n",
       "      <td>400.0</td>\n",
       "    </tr>\n",
       "    <tr>\n",
       "      <th>1</th>\n",
       "      <td>Lietuva</td>\n",
       "      <td>Kaunas</td>\n",
       "      <td>287</td>\n",
       "      <td>Estija</td>\n",
       "      <td>Tartu</td>\n",
       "      <td>101.0</td>\n",
       "    </tr>\n",
       "    <tr>\n",
       "      <th>2</th>\n",
       "      <td>Lietuva</td>\n",
       "      <td>Klaipėda</td>\n",
       "      <td>147</td>\n",
       "      <td>Estija</td>\n",
       "      <td>Pernu</td>\n",
       "      <td>46.0</td>\n",
       "    </tr>\n",
       "    <tr>\n",
       "      <th>3</th>\n",
       "      <td>Latvija</td>\n",
       "      <td>Ryga</td>\n",
       "      <td>716</td>\n",
       "      <td>NaN</td>\n",
       "      <td>NaN</td>\n",
       "      <td>NaN</td>\n",
       "    </tr>\n",
       "    <tr>\n",
       "      <th>4</th>\n",
       "      <td>Latvija</td>\n",
       "      <td>Ventspilis</td>\n",
       "      <td>43</td>\n",
       "      <td>NaN</td>\n",
       "      <td>NaN</td>\n",
       "      <td>NaN</td>\n",
       "    </tr>\n",
       "    <tr>\n",
       "      <th>5</th>\n",
       "      <td>Latvija</td>\n",
       "      <td>Daugpilis</td>\n",
       "      <td>105</td>\n",
       "      <td>NaN</td>\n",
       "      <td>NaN</td>\n",
       "      <td>NaN</td>\n",
       "    </tr>\n",
       "  </tbody>\n",
       "</table>\n",
       "</div>"
      ],
      "text/plain": [
       "     Šalis     Miestas  Gyv   Šalis  Miestas    Gyv\n",
       "0  Lietuva     Vilnius  541  Estija  Talinas  400.0\n",
       "1  Lietuva      Kaunas  287  Estija    Tartu  101.0\n",
       "2  Lietuva    Klaipėda  147  Estija    Pernu   46.0\n",
       "3  Latvija        Ryga  716     NaN      NaN    NaN\n",
       "4  Latvija  Ventspilis   43     NaN      NaN    NaN\n",
       "5  Latvija   Daugpilis  105     NaN      NaN    NaN"
      ]
     },
     "execution_count": 78,
     "metadata": {},
     "output_type": "execute_result"
    }
   ],
   "source": [
    "pd.concat([data_main, data_right], axis=1)"
   ]
  },
  {
   "attachments": {},
   "cell_type": "markdown",
   "metadata": {},
   "source": [
    "dabar pandas surado sutampančius indeksus, tačiau visvien turime NaN reikšmes, kadangi lentelėje trūksta duomenų. Pridėkime papildomų eilučių:"
   ]
  },
  {
   "cell_type": "code",
   "execution_count": 79,
   "metadata": {},
   "outputs": [],
   "source": [
    "lenkija = {'Šalis': ['Lenkija', 'Lenkija', 'Lenkija'], \n",
    "           'Miestas':['Varšuva', 'Vroclavas', 'Gdanskas'], \n",
    "           'Gyv': [1688, 638, 461]}\n",
    "pl = pd.DataFrame(lenkija)\n",
    "data_right1 = pd.concat([data_right, pl])"
   ]
  },
  {
   "cell_type": "code",
   "execution_count": 80,
   "metadata": {},
   "outputs": [],
   "source": [
    "data_right = data_right1.reset_index().drop(columns='index')"
   ]
  },
  {
   "cell_type": "code",
   "execution_count": 81,
   "metadata": {},
   "outputs": [
    {
     "data": {
      "text/html": [
       "<div>\n",
       "<style scoped>\n",
       "    .dataframe tbody tr th:only-of-type {\n",
       "        vertical-align: middle;\n",
       "    }\n",
       "\n",
       "    .dataframe tbody tr th {\n",
       "        vertical-align: top;\n",
       "    }\n",
       "\n",
       "    .dataframe thead th {\n",
       "        text-align: right;\n",
       "    }\n",
       "</style>\n",
       "<table border=\"1\" class=\"dataframe\">\n",
       "  <thead>\n",
       "    <tr style=\"text-align: right;\">\n",
       "      <th></th>\n",
       "      <th>Šalis</th>\n",
       "      <th>Miestas</th>\n",
       "      <th>Gyv</th>\n",
       "    </tr>\n",
       "  </thead>\n",
       "  <tbody>\n",
       "    <tr>\n",
       "      <th>0</th>\n",
       "      <td>Estija</td>\n",
       "      <td>Talinas</td>\n",
       "      <td>400</td>\n",
       "    </tr>\n",
       "    <tr>\n",
       "      <th>1</th>\n",
       "      <td>Estija</td>\n",
       "      <td>Tartu</td>\n",
       "      <td>101</td>\n",
       "    </tr>\n",
       "    <tr>\n",
       "      <th>2</th>\n",
       "      <td>Estija</td>\n",
       "      <td>Pernu</td>\n",
       "      <td>46</td>\n",
       "    </tr>\n",
       "    <tr>\n",
       "      <th>3</th>\n",
       "      <td>Lenkija</td>\n",
       "      <td>Varšuva</td>\n",
       "      <td>1688</td>\n",
       "    </tr>\n",
       "    <tr>\n",
       "      <th>4</th>\n",
       "      <td>Lenkija</td>\n",
       "      <td>Vroclavas</td>\n",
       "      <td>638</td>\n",
       "    </tr>\n",
       "    <tr>\n",
       "      <th>5</th>\n",
       "      <td>Lenkija</td>\n",
       "      <td>Gdanskas</td>\n",
       "      <td>461</td>\n",
       "    </tr>\n",
       "  </tbody>\n",
       "</table>\n",
       "</div>"
      ],
      "text/plain": [
       "     Šalis    Miestas   Gyv\n",
       "0   Estija    Talinas   400\n",
       "1   Estija      Tartu   101\n",
       "2   Estija      Pernu    46\n",
       "3  Lenkija    Varšuva  1688\n",
       "4  Lenkija  Vroclavas   638\n",
       "5  Lenkija   Gdanskas   461"
      ]
     },
     "execution_count": 81,
     "metadata": {},
     "output_type": "execute_result"
    }
   ],
   "source": [
    "data_right"
   ]
  },
  {
   "attachments": {},
   "cell_type": "markdown",
   "metadata": {},
   "source": [
    "Pabandykime sujungti data_main su data_right :)"
   ]
  },
  {
   "cell_type": "code",
   "execution_count": 83,
   "metadata": {},
   "outputs": [
    {
     "data": {
      "text/html": [
       "<div>\n",
       "<style scoped>\n",
       "    .dataframe tbody tr th:only-of-type {\n",
       "        vertical-align: middle;\n",
       "    }\n",
       "\n",
       "    .dataframe tbody tr th {\n",
       "        vertical-align: top;\n",
       "    }\n",
       "\n",
       "    .dataframe thead th {\n",
       "        text-align: right;\n",
       "    }\n",
       "</style>\n",
       "<table border=\"1\" class=\"dataframe\">\n",
       "  <thead>\n",
       "    <tr style=\"text-align: right;\">\n",
       "      <th></th>\n",
       "      <th>Šalis</th>\n",
       "      <th>Miestas</th>\n",
       "      <th>Gyv</th>\n",
       "      <th>Šalis</th>\n",
       "      <th>Miestas</th>\n",
       "      <th>Gyv</th>\n",
       "    </tr>\n",
       "  </thead>\n",
       "  <tbody>\n",
       "    <tr>\n",
       "      <th>0</th>\n",
       "      <td>Lietuva</td>\n",
       "      <td>Vilnius</td>\n",
       "      <td>541</td>\n",
       "      <td>Estija</td>\n",
       "      <td>Talinas</td>\n",
       "      <td>400</td>\n",
       "    </tr>\n",
       "    <tr>\n",
       "      <th>1</th>\n",
       "      <td>Lietuva</td>\n",
       "      <td>Kaunas</td>\n",
       "      <td>287</td>\n",
       "      <td>Estija</td>\n",
       "      <td>Tartu</td>\n",
       "      <td>101</td>\n",
       "    </tr>\n",
       "    <tr>\n",
       "      <th>2</th>\n",
       "      <td>Lietuva</td>\n",
       "      <td>Klaipėda</td>\n",
       "      <td>147</td>\n",
       "      <td>Estija</td>\n",
       "      <td>Pernu</td>\n",
       "      <td>46</td>\n",
       "    </tr>\n",
       "    <tr>\n",
       "      <th>3</th>\n",
       "      <td>Latvija</td>\n",
       "      <td>Ryga</td>\n",
       "      <td>716</td>\n",
       "      <td>Lenkija</td>\n",
       "      <td>Varšuva</td>\n",
       "      <td>1688</td>\n",
       "    </tr>\n",
       "    <tr>\n",
       "      <th>4</th>\n",
       "      <td>Latvija</td>\n",
       "      <td>Ventspilis</td>\n",
       "      <td>43</td>\n",
       "      <td>Lenkija</td>\n",
       "      <td>Vroclavas</td>\n",
       "      <td>638</td>\n",
       "    </tr>\n",
       "    <tr>\n",
       "      <th>5</th>\n",
       "      <td>Latvija</td>\n",
       "      <td>Daugpilis</td>\n",
       "      <td>105</td>\n",
       "      <td>Lenkija</td>\n",
       "      <td>Gdanskas</td>\n",
       "      <td>461</td>\n",
       "    </tr>\n",
       "  </tbody>\n",
       "</table>\n",
       "</div>"
      ],
      "text/plain": [
       "     Šalis     Miestas  Gyv    Šalis    Miestas   Gyv\n",
       "0  Lietuva     Vilnius  541   Estija    Talinas   400\n",
       "1  Lietuva      Kaunas  287   Estija      Tartu   101\n",
       "2  Lietuva    Klaipėda  147   Estija      Pernu    46\n",
       "3  Latvija        Ryga  716  Lenkija    Varšuva  1688\n",
       "4  Latvija  Ventspilis   43  Lenkija  Vroclavas   638\n",
       "5  Latvija   Daugpilis  105  Lenkija   Gdanskas   461"
      ]
     },
     "execution_count": 83,
     "metadata": {},
     "output_type": "execute_result"
    }
   ],
   "source": [
    "pd.concat([data_main, data_right], axis=1)"
   ]
  },
  {
   "attachments": {},
   "cell_type": "markdown",
   "metadata": {},
   "source": [
    "**.merge()**"
   ]
  },
  {
   "attachments": {},
   "cell_type": "markdown",
   "metadata": {},
   "source": [
    "Jeigu *data_main* ir *data_right* turėtų po vieną sutampantį stulpelį, pvz.:"
   ]
  },
  {
   "cell_type": "code",
   "execution_count": 84,
   "metadata": {},
   "outputs": [
    {
     "name": "stderr",
     "output_type": "stream",
     "text": [
      "/tmp/ipykernel_739/656950777.py:2: SettingWithCopyWarning: \n",
      "A value is trying to be set on a copy of a slice from a DataFrame.\n",
      "Try using .loc[row_indexer,col_indexer] = value instead\n",
      "\n",
      "See the caveats in the documentation: https://pandas.pydata.org/pandas-docs/stable/user_guide/indexing.html#returning-a-view-versus-a-copy\n",
      "  data_main['key'] = key\n"
     ]
    }
   ],
   "source": [
    "key = 'A B C D E F'.split()\n",
    "data_main['key'] = key\n",
    "data_right['key'] = key"
   ]
  },
  {
   "cell_type": "code",
   "execution_count": 86,
   "metadata": {},
   "outputs": [
    {
     "data": {
      "text/html": [
       "<div>\n",
       "<style scoped>\n",
       "    .dataframe tbody tr th:only-of-type {\n",
       "        vertical-align: middle;\n",
       "    }\n",
       "\n",
       "    .dataframe tbody tr th {\n",
       "        vertical-align: top;\n",
       "    }\n",
       "\n",
       "    .dataframe thead th {\n",
       "        text-align: right;\n",
       "    }\n",
       "</style>\n",
       "<table border=\"1\" class=\"dataframe\">\n",
       "  <thead>\n",
       "    <tr style=\"text-align: right;\">\n",
       "      <th></th>\n",
       "      <th>Šalis</th>\n",
       "      <th>Miestas</th>\n",
       "      <th>Gyv</th>\n",
       "      <th>key</th>\n",
       "    </tr>\n",
       "  </thead>\n",
       "  <tbody>\n",
       "    <tr>\n",
       "      <th>0</th>\n",
       "      <td>Lietuva</td>\n",
       "      <td>Vilnius</td>\n",
       "      <td>541</td>\n",
       "      <td>A</td>\n",
       "    </tr>\n",
       "    <tr>\n",
       "      <th>1</th>\n",
       "      <td>Lietuva</td>\n",
       "      <td>Kaunas</td>\n",
       "      <td>287</td>\n",
       "      <td>B</td>\n",
       "    </tr>\n",
       "    <tr>\n",
       "      <th>2</th>\n",
       "      <td>Lietuva</td>\n",
       "      <td>Klaipėda</td>\n",
       "      <td>147</td>\n",
       "      <td>C</td>\n",
       "    </tr>\n",
       "    <tr>\n",
       "      <th>3</th>\n",
       "      <td>Latvija</td>\n",
       "      <td>Ryga</td>\n",
       "      <td>716</td>\n",
       "      <td>D</td>\n",
       "    </tr>\n",
       "    <tr>\n",
       "      <th>4</th>\n",
       "      <td>Latvija</td>\n",
       "      <td>Ventspilis</td>\n",
       "      <td>43</td>\n",
       "      <td>E</td>\n",
       "    </tr>\n",
       "    <tr>\n",
       "      <th>5</th>\n",
       "      <td>Latvija</td>\n",
       "      <td>Daugpilis</td>\n",
       "      <td>105</td>\n",
       "      <td>F</td>\n",
       "    </tr>\n",
       "  </tbody>\n",
       "</table>\n",
       "</div>"
      ],
      "text/plain": [
       "     Šalis     Miestas  Gyv key\n",
       "0  Lietuva     Vilnius  541   A\n",
       "1  Lietuva      Kaunas  287   B\n",
       "2  Lietuva    Klaipėda  147   C\n",
       "3  Latvija        Ryga  716   D\n",
       "4  Latvija  Ventspilis   43   E\n",
       "5  Latvija   Daugpilis  105   F"
      ]
     },
     "execution_count": 86,
     "metadata": {},
     "output_type": "execute_result"
    }
   ],
   "source": [
    "data_main"
   ]
  },
  {
   "cell_type": "code",
   "execution_count": 87,
   "metadata": {},
   "outputs": [
    {
     "data": {
      "text/html": [
       "<div>\n",
       "<style scoped>\n",
       "    .dataframe tbody tr th:only-of-type {\n",
       "        vertical-align: middle;\n",
       "    }\n",
       "\n",
       "    .dataframe tbody tr th {\n",
       "        vertical-align: top;\n",
       "    }\n",
       "\n",
       "    .dataframe thead th {\n",
       "        text-align: right;\n",
       "    }\n",
       "</style>\n",
       "<table border=\"1\" class=\"dataframe\">\n",
       "  <thead>\n",
       "    <tr style=\"text-align: right;\">\n",
       "      <th></th>\n",
       "      <th>Šalis</th>\n",
       "      <th>Miestas</th>\n",
       "      <th>Gyv</th>\n",
       "      <th>key</th>\n",
       "    </tr>\n",
       "  </thead>\n",
       "  <tbody>\n",
       "    <tr>\n",
       "      <th>0</th>\n",
       "      <td>Estija</td>\n",
       "      <td>Talinas</td>\n",
       "      <td>400</td>\n",
       "      <td>A</td>\n",
       "    </tr>\n",
       "    <tr>\n",
       "      <th>1</th>\n",
       "      <td>Estija</td>\n",
       "      <td>Tartu</td>\n",
       "      <td>101</td>\n",
       "      <td>B</td>\n",
       "    </tr>\n",
       "    <tr>\n",
       "      <th>2</th>\n",
       "      <td>Estija</td>\n",
       "      <td>Pernu</td>\n",
       "      <td>46</td>\n",
       "      <td>C</td>\n",
       "    </tr>\n",
       "    <tr>\n",
       "      <th>3</th>\n",
       "      <td>Lenkija</td>\n",
       "      <td>Varšuva</td>\n",
       "      <td>1688</td>\n",
       "      <td>D</td>\n",
       "    </tr>\n",
       "    <tr>\n",
       "      <th>4</th>\n",
       "      <td>Lenkija</td>\n",
       "      <td>Vroclavas</td>\n",
       "      <td>638</td>\n",
       "      <td>E</td>\n",
       "    </tr>\n",
       "    <tr>\n",
       "      <th>5</th>\n",
       "      <td>Lenkija</td>\n",
       "      <td>Gdanskas</td>\n",
       "      <td>461</td>\n",
       "      <td>F</td>\n",
       "    </tr>\n",
       "  </tbody>\n",
       "</table>\n",
       "</div>"
      ],
      "text/plain": [
       "     Šalis    Miestas   Gyv key\n",
       "0   Estija    Talinas   400   A\n",
       "1   Estija      Tartu   101   B\n",
       "2   Estija      Pernu    46   C\n",
       "3  Lenkija    Varšuva  1688   D\n",
       "4  Lenkija  Vroclavas   638   E\n",
       "5  Lenkija   Gdanskas   461   F"
      ]
     },
     "execution_count": 87,
     "metadata": {},
     "output_type": "execute_result"
    }
   ],
   "source": [
    "data_right"
   ]
  },
  {
   "attachments": {},
   "cell_type": "markdown",
   "metadata": {},
   "source": [
    "galima jas sulieti to bendro stulpelio pagrindu:"
   ]
  },
  {
   "cell_type": "code",
   "execution_count": 88,
   "metadata": {},
   "outputs": [
    {
     "data": {
      "text/html": [
       "<div>\n",
       "<style scoped>\n",
       "    .dataframe tbody tr th:only-of-type {\n",
       "        vertical-align: middle;\n",
       "    }\n",
       "\n",
       "    .dataframe tbody tr th {\n",
       "        vertical-align: top;\n",
       "    }\n",
       "\n",
       "    .dataframe thead th {\n",
       "        text-align: right;\n",
       "    }\n",
       "</style>\n",
       "<table border=\"1\" class=\"dataframe\">\n",
       "  <thead>\n",
       "    <tr style=\"text-align: right;\">\n",
       "      <th></th>\n",
       "      <th>Šalis_x</th>\n",
       "      <th>Miestas_x</th>\n",
       "      <th>Gyv_x</th>\n",
       "      <th>key</th>\n",
       "      <th>Šalis_y</th>\n",
       "      <th>Miestas_y</th>\n",
       "      <th>Gyv_y</th>\n",
       "    </tr>\n",
       "  </thead>\n",
       "  <tbody>\n",
       "    <tr>\n",
       "      <th>0</th>\n",
       "      <td>Lietuva</td>\n",
       "      <td>Vilnius</td>\n",
       "      <td>541</td>\n",
       "      <td>A</td>\n",
       "      <td>Estija</td>\n",
       "      <td>Talinas</td>\n",
       "      <td>400</td>\n",
       "    </tr>\n",
       "    <tr>\n",
       "      <th>1</th>\n",
       "      <td>Lietuva</td>\n",
       "      <td>Kaunas</td>\n",
       "      <td>287</td>\n",
       "      <td>B</td>\n",
       "      <td>Estija</td>\n",
       "      <td>Tartu</td>\n",
       "      <td>101</td>\n",
       "    </tr>\n",
       "    <tr>\n",
       "      <th>2</th>\n",
       "      <td>Lietuva</td>\n",
       "      <td>Klaipėda</td>\n",
       "      <td>147</td>\n",
       "      <td>C</td>\n",
       "      <td>Estija</td>\n",
       "      <td>Pernu</td>\n",
       "      <td>46</td>\n",
       "    </tr>\n",
       "    <tr>\n",
       "      <th>3</th>\n",
       "      <td>Latvija</td>\n",
       "      <td>Ryga</td>\n",
       "      <td>716</td>\n",
       "      <td>D</td>\n",
       "      <td>Lenkija</td>\n",
       "      <td>Varšuva</td>\n",
       "      <td>1688</td>\n",
       "    </tr>\n",
       "    <tr>\n",
       "      <th>4</th>\n",
       "      <td>Latvija</td>\n",
       "      <td>Ventspilis</td>\n",
       "      <td>43</td>\n",
       "      <td>E</td>\n",
       "      <td>Lenkija</td>\n",
       "      <td>Vroclavas</td>\n",
       "      <td>638</td>\n",
       "    </tr>\n",
       "    <tr>\n",
       "      <th>5</th>\n",
       "      <td>Latvija</td>\n",
       "      <td>Daugpilis</td>\n",
       "      <td>105</td>\n",
       "      <td>F</td>\n",
       "      <td>Lenkija</td>\n",
       "      <td>Gdanskas</td>\n",
       "      <td>461</td>\n",
       "    </tr>\n",
       "  </tbody>\n",
       "</table>\n",
       "</div>"
      ],
      "text/plain": [
       "   Šalis_x   Miestas_x  Gyv_x key  Šalis_y  Miestas_y  Gyv_y\n",
       "0  Lietuva     Vilnius    541   A   Estija    Talinas    400\n",
       "1  Lietuva      Kaunas    287   B   Estija      Tartu    101\n",
       "2  Lietuva    Klaipėda    147   C   Estija      Pernu     46\n",
       "3  Latvija        Ryga    716   D  Lenkija    Varšuva   1688\n",
       "4  Latvija  Ventspilis     43   E  Lenkija  Vroclavas    638\n",
       "5  Latvija   Daugpilis    105   F  Lenkija   Gdanskas    461"
      ]
     },
     "execution_count": 88,
     "metadata": {},
     "output_type": "execute_result"
    }
   ],
   "source": [
    "pd.merge(data_main, data_right, on='key')"
   ]
  },
  {
   "attachments": {},
   "cell_type": "markdown",
   "metadata": {},
   "source": [
    "matome, kad lentelės suklijuotos, tačiau stulpelis 'key' nesikartoja (*stulpeliai pervadinti, kad nesidubliuotų pavadinimai*). Stulpelį 'key' teko nurodyti parametre **on**."
   ]
  },
  {
   "attachments": {},
   "cell_type": "markdown",
   "metadata": {},
   "source": [
    "papildykime pavyzdį dar vienu stulpeliu:"
   ]
  },
  {
   "cell_type": "code",
   "execution_count": 89,
   "metadata": {},
   "outputs": [
    {
     "name": "stderr",
     "output_type": "stream",
     "text": [
      "/tmp/ipykernel_739/4176950254.py:2: SettingWithCopyWarning: \n",
      "A value is trying to be set on a copy of a slice from a DataFrame.\n",
      "Try using .loc[row_indexer,col_indexer] = value instead\n",
      "\n",
      "See the caveats in the documentation: https://pandas.pydata.org/pandas-docs/stable/user_guide/indexing.html#returning-a-view-versus-a-copy\n",
      "  data_main['key2'] = key2\n"
     ]
    }
   ],
   "source": [
    "key2 = 'B C D E F G'.split()\n",
    "data_main['key2'] = key2\n",
    "data_right['key2'] = key2"
   ]
  },
  {
   "attachments": {},
   "cell_type": "markdown",
   "metadata": {},
   "source": [
    "*tai ne klaida, tai perspėjimas, ignoruokite. čia tiesiog greituoju būdu sukurta dummy data*"
   ]
  },
  {
   "cell_type": "code",
   "execution_count": 90,
   "metadata": {},
   "outputs": [
    {
     "data": {
      "text/html": [
       "<div>\n",
       "<style scoped>\n",
       "    .dataframe tbody tr th:only-of-type {\n",
       "        vertical-align: middle;\n",
       "    }\n",
       "\n",
       "    .dataframe tbody tr th {\n",
       "        vertical-align: top;\n",
       "    }\n",
       "\n",
       "    .dataframe thead th {\n",
       "        text-align: right;\n",
       "    }\n",
       "</style>\n",
       "<table border=\"1\" class=\"dataframe\">\n",
       "  <thead>\n",
       "    <tr style=\"text-align: right;\">\n",
       "      <th></th>\n",
       "      <th>Šalis</th>\n",
       "      <th>Miestas</th>\n",
       "      <th>Gyv</th>\n",
       "      <th>key</th>\n",
       "      <th>key2</th>\n",
       "    </tr>\n",
       "  </thead>\n",
       "  <tbody>\n",
       "    <tr>\n",
       "      <th>0</th>\n",
       "      <td>Lietuva</td>\n",
       "      <td>Vilnius</td>\n",
       "      <td>541</td>\n",
       "      <td>A</td>\n",
       "      <td>B</td>\n",
       "    </tr>\n",
       "    <tr>\n",
       "      <th>1</th>\n",
       "      <td>Lietuva</td>\n",
       "      <td>Kaunas</td>\n",
       "      <td>287</td>\n",
       "      <td>B</td>\n",
       "      <td>C</td>\n",
       "    </tr>\n",
       "    <tr>\n",
       "      <th>2</th>\n",
       "      <td>Lietuva</td>\n",
       "      <td>Klaipėda</td>\n",
       "      <td>147</td>\n",
       "      <td>C</td>\n",
       "      <td>D</td>\n",
       "    </tr>\n",
       "    <tr>\n",
       "      <th>3</th>\n",
       "      <td>Latvija</td>\n",
       "      <td>Ryga</td>\n",
       "      <td>716</td>\n",
       "      <td>D</td>\n",
       "      <td>E</td>\n",
       "    </tr>\n",
       "    <tr>\n",
       "      <th>4</th>\n",
       "      <td>Latvija</td>\n",
       "      <td>Ventspilis</td>\n",
       "      <td>43</td>\n",
       "      <td>E</td>\n",
       "      <td>F</td>\n",
       "    </tr>\n",
       "    <tr>\n",
       "      <th>5</th>\n",
       "      <td>Latvija</td>\n",
       "      <td>Daugpilis</td>\n",
       "      <td>105</td>\n",
       "      <td>F</td>\n",
       "      <td>G</td>\n",
       "    </tr>\n",
       "  </tbody>\n",
       "</table>\n",
       "</div>"
      ],
      "text/plain": [
       "     Šalis     Miestas  Gyv key key2\n",
       "0  Lietuva     Vilnius  541   A    B\n",
       "1  Lietuva      Kaunas  287   B    C\n",
       "2  Lietuva    Klaipėda  147   C    D\n",
       "3  Latvija        Ryga  716   D    E\n",
       "4  Latvija  Ventspilis   43   E    F\n",
       "5  Latvija   Daugpilis  105   F    G"
      ]
     },
     "execution_count": 90,
     "metadata": {},
     "output_type": "execute_result"
    }
   ],
   "source": [
    "data_main"
   ]
  },
  {
   "cell_type": "code",
   "execution_count": 91,
   "metadata": {},
   "outputs": [
    {
     "data": {
      "text/html": [
       "<div>\n",
       "<style scoped>\n",
       "    .dataframe tbody tr th:only-of-type {\n",
       "        vertical-align: middle;\n",
       "    }\n",
       "\n",
       "    .dataframe tbody tr th {\n",
       "        vertical-align: top;\n",
       "    }\n",
       "\n",
       "    .dataframe thead th {\n",
       "        text-align: right;\n",
       "    }\n",
       "</style>\n",
       "<table border=\"1\" class=\"dataframe\">\n",
       "  <thead>\n",
       "    <tr style=\"text-align: right;\">\n",
       "      <th></th>\n",
       "      <th>Šalis</th>\n",
       "      <th>Miestas</th>\n",
       "      <th>Gyv</th>\n",
       "      <th>key</th>\n",
       "      <th>key2</th>\n",
       "    </tr>\n",
       "  </thead>\n",
       "  <tbody>\n",
       "    <tr>\n",
       "      <th>0</th>\n",
       "      <td>Estija</td>\n",
       "      <td>Talinas</td>\n",
       "      <td>400</td>\n",
       "      <td>A</td>\n",
       "      <td>B</td>\n",
       "    </tr>\n",
       "    <tr>\n",
       "      <th>1</th>\n",
       "      <td>Estija</td>\n",
       "      <td>Tartu</td>\n",
       "      <td>101</td>\n",
       "      <td>B</td>\n",
       "      <td>C</td>\n",
       "    </tr>\n",
       "    <tr>\n",
       "      <th>2</th>\n",
       "      <td>Estija</td>\n",
       "      <td>Pernu</td>\n",
       "      <td>46</td>\n",
       "      <td>C</td>\n",
       "      <td>D</td>\n",
       "    </tr>\n",
       "    <tr>\n",
       "      <th>3</th>\n",
       "      <td>Lenkija</td>\n",
       "      <td>Varšuva</td>\n",
       "      <td>1688</td>\n",
       "      <td>D</td>\n",
       "      <td>E</td>\n",
       "    </tr>\n",
       "    <tr>\n",
       "      <th>4</th>\n",
       "      <td>Lenkija</td>\n",
       "      <td>Vroclavas</td>\n",
       "      <td>638</td>\n",
       "      <td>E</td>\n",
       "      <td>F</td>\n",
       "    </tr>\n",
       "    <tr>\n",
       "      <th>5</th>\n",
       "      <td>Lenkija</td>\n",
       "      <td>Gdanskas</td>\n",
       "      <td>461</td>\n",
       "      <td>F</td>\n",
       "      <td>G</td>\n",
       "    </tr>\n",
       "  </tbody>\n",
       "</table>\n",
       "</div>"
      ],
      "text/plain": [
       "     Šalis    Miestas   Gyv key key2\n",
       "0   Estija    Talinas   400   A    B\n",
       "1   Estija      Tartu   101   B    C\n",
       "2   Estija      Pernu    46   C    D\n",
       "3  Lenkija    Varšuva  1688   D    E\n",
       "4  Lenkija  Vroclavas   638   E    F\n",
       "5  Lenkija   Gdanskas   461   F    G"
      ]
     },
     "execution_count": 91,
     "metadata": {},
     "output_type": "execute_result"
    }
   ],
   "source": [
    "data_right"
   ]
  },
  {
   "cell_type": "code",
   "execution_count": 92,
   "metadata": {},
   "outputs": [
    {
     "data": {
      "text/html": [
       "<div>\n",
       "<style scoped>\n",
       "    .dataframe tbody tr th:only-of-type {\n",
       "        vertical-align: middle;\n",
       "    }\n",
       "\n",
       "    .dataframe tbody tr th {\n",
       "        vertical-align: top;\n",
       "    }\n",
       "\n",
       "    .dataframe thead th {\n",
       "        text-align: right;\n",
       "    }\n",
       "</style>\n",
       "<table border=\"1\" class=\"dataframe\">\n",
       "  <thead>\n",
       "    <tr style=\"text-align: right;\">\n",
       "      <th></th>\n",
       "      <th>Šalis_x</th>\n",
       "      <th>Miestas_x</th>\n",
       "      <th>Gyv_x</th>\n",
       "      <th>key</th>\n",
       "      <th>key2</th>\n",
       "      <th>Šalis_y</th>\n",
       "      <th>Miestas_y</th>\n",
       "      <th>Gyv_y</th>\n",
       "    </tr>\n",
       "  </thead>\n",
       "  <tbody>\n",
       "    <tr>\n",
       "      <th>0</th>\n",
       "      <td>Lietuva</td>\n",
       "      <td>Vilnius</td>\n",
       "      <td>541</td>\n",
       "      <td>A</td>\n",
       "      <td>B</td>\n",
       "      <td>Estija</td>\n",
       "      <td>Talinas</td>\n",
       "      <td>400</td>\n",
       "    </tr>\n",
       "    <tr>\n",
       "      <th>1</th>\n",
       "      <td>Lietuva</td>\n",
       "      <td>Kaunas</td>\n",
       "      <td>287</td>\n",
       "      <td>B</td>\n",
       "      <td>C</td>\n",
       "      <td>Estija</td>\n",
       "      <td>Tartu</td>\n",
       "      <td>101</td>\n",
       "    </tr>\n",
       "    <tr>\n",
       "      <th>2</th>\n",
       "      <td>Lietuva</td>\n",
       "      <td>Klaipėda</td>\n",
       "      <td>147</td>\n",
       "      <td>C</td>\n",
       "      <td>D</td>\n",
       "      <td>Estija</td>\n",
       "      <td>Pernu</td>\n",
       "      <td>46</td>\n",
       "    </tr>\n",
       "    <tr>\n",
       "      <th>3</th>\n",
       "      <td>Latvija</td>\n",
       "      <td>Ryga</td>\n",
       "      <td>716</td>\n",
       "      <td>D</td>\n",
       "      <td>E</td>\n",
       "      <td>Lenkija</td>\n",
       "      <td>Varšuva</td>\n",
       "      <td>1688</td>\n",
       "    </tr>\n",
       "    <tr>\n",
       "      <th>4</th>\n",
       "      <td>Latvija</td>\n",
       "      <td>Ventspilis</td>\n",
       "      <td>43</td>\n",
       "      <td>E</td>\n",
       "      <td>F</td>\n",
       "      <td>Lenkija</td>\n",
       "      <td>Vroclavas</td>\n",
       "      <td>638</td>\n",
       "    </tr>\n",
       "    <tr>\n",
       "      <th>5</th>\n",
       "      <td>Latvija</td>\n",
       "      <td>Daugpilis</td>\n",
       "      <td>105</td>\n",
       "      <td>F</td>\n",
       "      <td>G</td>\n",
       "      <td>Lenkija</td>\n",
       "      <td>Gdanskas</td>\n",
       "      <td>461</td>\n",
       "    </tr>\n",
       "  </tbody>\n",
       "</table>\n",
       "</div>"
      ],
      "text/plain": [
       "   Šalis_x   Miestas_x  Gyv_x key key2  Šalis_y  Miestas_y  Gyv_y\n",
       "0  Lietuva     Vilnius    541   A    B   Estija    Talinas    400\n",
       "1  Lietuva      Kaunas    287   B    C   Estija      Tartu    101\n",
       "2  Lietuva    Klaipėda    147   C    D   Estija      Pernu     46\n",
       "3  Latvija        Ryga    716   D    E  Lenkija    Varšuva   1688\n",
       "4  Latvija  Ventspilis     43   E    F  Lenkija  Vroclavas    638\n",
       "5  Latvija   Daugpilis    105   F    G  Lenkija   Gdanskas    461"
      ]
     },
     "execution_count": 92,
     "metadata": {},
     "output_type": "execute_result"
    }
   ],
   "source": [
    "pd.merge(data_main, data_right, on=['key', 'key2'])"
   ]
  },
  {
   "attachments": {},
   "cell_type": "markdown",
   "metadata": {},
   "source": [
    "Matome, kad į parametrą **on** galima perduoti ir daugiau reikšmių, sąraše."
   ]
  },
  {
   "attachments": {},
   "cell_type": "markdown",
   "metadata": {},
   "source": [
    "Jeigu, pvz. stulpelis 'key2' vienoje lentelėje skiriasi nuo kitos lentelės 'key2' stulpelio:"
   ]
  },
  {
   "cell_type": "code",
   "execution_count": 93,
   "metadata": {},
   "outputs": [],
   "source": [
    "keyX = 'W C D E F W'.split()\n",
    "data_right['key2'] = keyX"
   ]
  },
  {
   "cell_type": "code",
   "execution_count": 94,
   "metadata": {},
   "outputs": [
    {
     "data": {
      "text/html": [
       "<div>\n",
       "<style scoped>\n",
       "    .dataframe tbody tr th:only-of-type {\n",
       "        vertical-align: middle;\n",
       "    }\n",
       "\n",
       "    .dataframe tbody tr th {\n",
       "        vertical-align: top;\n",
       "    }\n",
       "\n",
       "    .dataframe thead th {\n",
       "        text-align: right;\n",
       "    }\n",
       "</style>\n",
       "<table border=\"1\" class=\"dataframe\">\n",
       "  <thead>\n",
       "    <tr style=\"text-align: right;\">\n",
       "      <th></th>\n",
       "      <th>Šalis</th>\n",
       "      <th>Miestas</th>\n",
       "      <th>Gyv</th>\n",
       "      <th>key</th>\n",
       "      <th>key2</th>\n",
       "    </tr>\n",
       "  </thead>\n",
       "  <tbody>\n",
       "    <tr>\n",
       "      <th>0</th>\n",
       "      <td>Estija</td>\n",
       "      <td>Talinas</td>\n",
       "      <td>400</td>\n",
       "      <td>A</td>\n",
       "      <td>W</td>\n",
       "    </tr>\n",
       "    <tr>\n",
       "      <th>1</th>\n",
       "      <td>Estija</td>\n",
       "      <td>Tartu</td>\n",
       "      <td>101</td>\n",
       "      <td>B</td>\n",
       "      <td>C</td>\n",
       "    </tr>\n",
       "    <tr>\n",
       "      <th>2</th>\n",
       "      <td>Estija</td>\n",
       "      <td>Pernu</td>\n",
       "      <td>46</td>\n",
       "      <td>C</td>\n",
       "      <td>D</td>\n",
       "    </tr>\n",
       "    <tr>\n",
       "      <th>3</th>\n",
       "      <td>Lenkija</td>\n",
       "      <td>Varšuva</td>\n",
       "      <td>1688</td>\n",
       "      <td>D</td>\n",
       "      <td>E</td>\n",
       "    </tr>\n",
       "    <tr>\n",
       "      <th>4</th>\n",
       "      <td>Lenkija</td>\n",
       "      <td>Vroclavas</td>\n",
       "      <td>638</td>\n",
       "      <td>E</td>\n",
       "      <td>F</td>\n",
       "    </tr>\n",
       "    <tr>\n",
       "      <th>5</th>\n",
       "      <td>Lenkija</td>\n",
       "      <td>Gdanskas</td>\n",
       "      <td>461</td>\n",
       "      <td>F</td>\n",
       "      <td>W</td>\n",
       "    </tr>\n",
       "  </tbody>\n",
       "</table>\n",
       "</div>"
      ],
      "text/plain": [
       "     Šalis    Miestas   Gyv key key2\n",
       "0   Estija    Talinas   400   A    W\n",
       "1   Estija      Tartu   101   B    C\n",
       "2   Estija      Pernu    46   C    D\n",
       "3  Lenkija    Varšuva  1688   D    E\n",
       "4  Lenkija  Vroclavas   638   E    F\n",
       "5  Lenkija   Gdanskas   461   F    W"
      ]
     },
     "execution_count": 94,
     "metadata": {},
     "output_type": "execute_result"
    }
   ],
   "source": [
    "data_right"
   ]
  },
  {
   "cell_type": "code",
   "execution_count": 95,
   "metadata": {},
   "outputs": [
    {
     "data": {
      "text/html": [
       "<div>\n",
       "<style scoped>\n",
       "    .dataframe tbody tr th:only-of-type {\n",
       "        vertical-align: middle;\n",
       "    }\n",
       "\n",
       "    .dataframe tbody tr th {\n",
       "        vertical-align: top;\n",
       "    }\n",
       "\n",
       "    .dataframe thead th {\n",
       "        text-align: right;\n",
       "    }\n",
       "</style>\n",
       "<table border=\"1\" class=\"dataframe\">\n",
       "  <thead>\n",
       "    <tr style=\"text-align: right;\">\n",
       "      <th></th>\n",
       "      <th>Šalis_x</th>\n",
       "      <th>Miestas_x</th>\n",
       "      <th>Gyv_x</th>\n",
       "      <th>key</th>\n",
       "      <th>key2</th>\n",
       "      <th>Šalis_y</th>\n",
       "      <th>Miestas_y</th>\n",
       "      <th>Gyv_y</th>\n",
       "    </tr>\n",
       "  </thead>\n",
       "  <tbody>\n",
       "    <tr>\n",
       "      <th>0</th>\n",
       "      <td>Lietuva</td>\n",
       "      <td>Kaunas</td>\n",
       "      <td>287</td>\n",
       "      <td>B</td>\n",
       "      <td>C</td>\n",
       "      <td>Estija</td>\n",
       "      <td>Tartu</td>\n",
       "      <td>101</td>\n",
       "    </tr>\n",
       "    <tr>\n",
       "      <th>1</th>\n",
       "      <td>Lietuva</td>\n",
       "      <td>Klaipėda</td>\n",
       "      <td>147</td>\n",
       "      <td>C</td>\n",
       "      <td>D</td>\n",
       "      <td>Estija</td>\n",
       "      <td>Pernu</td>\n",
       "      <td>46</td>\n",
       "    </tr>\n",
       "    <tr>\n",
       "      <th>2</th>\n",
       "      <td>Latvija</td>\n",
       "      <td>Ryga</td>\n",
       "      <td>716</td>\n",
       "      <td>D</td>\n",
       "      <td>E</td>\n",
       "      <td>Lenkija</td>\n",
       "      <td>Varšuva</td>\n",
       "      <td>1688</td>\n",
       "    </tr>\n",
       "    <tr>\n",
       "      <th>3</th>\n",
       "      <td>Latvija</td>\n",
       "      <td>Ventspilis</td>\n",
       "      <td>43</td>\n",
       "      <td>E</td>\n",
       "      <td>F</td>\n",
       "      <td>Lenkija</td>\n",
       "      <td>Vroclavas</td>\n",
       "      <td>638</td>\n",
       "    </tr>\n",
       "  </tbody>\n",
       "</table>\n",
       "</div>"
      ],
      "text/plain": [
       "   Šalis_x   Miestas_x  Gyv_x key key2  Šalis_y  Miestas_y  Gyv_y\n",
       "0  Lietuva      Kaunas    287   B    C   Estija      Tartu    101\n",
       "1  Lietuva    Klaipėda    147   C    D   Estija      Pernu     46\n",
       "2  Latvija        Ryga    716   D    E  Lenkija    Varšuva   1688\n",
       "3  Latvija  Ventspilis     43   E    F  Lenkija  Vroclavas    638"
      ]
     },
     "execution_count": 95,
     "metadata": {},
     "output_type": "execute_result"
    }
   ],
   "source": [
    "pd.merge(data_main, data_right, on=['key', 'key2'])"
   ]
  },
  {
   "attachments": {},
   "cell_type": "markdown",
   "metadata": {},
   "source": [
    "...gauname tik tas eilutes, kuriose 'key2' reikšmių sekos dalis sutampa."
   ]
  },
  {
   "attachments": {},
   "cell_type": "markdown",
   "metadata": {},
   "source": [
    "Yra ir metodas **.join()**. Jis daro tą patį, ką ir merge, tik indekso pagrindu. Pvz.:"
   ]
  },
  {
   "cell_type": "code",
   "execution_count": 97,
   "metadata": {},
   "outputs": [
    {
     "data": {
      "text/html": [
       "<div>\n",
       "<style scoped>\n",
       "    .dataframe tbody tr th:only-of-type {\n",
       "        vertical-align: middle;\n",
       "    }\n",
       "\n",
       "    .dataframe tbody tr th {\n",
       "        vertical-align: top;\n",
       "    }\n",
       "\n",
       "    .dataframe thead th {\n",
       "        text-align: right;\n",
       "    }\n",
       "</style>\n",
       "<table border=\"1\" class=\"dataframe\">\n",
       "  <thead>\n",
       "    <tr style=\"text-align: right;\">\n",
       "      <th></th>\n",
       "      <th>Šalis.L</th>\n",
       "      <th>Miestas.L</th>\n",
       "      <th>Gyv.L</th>\n",
       "      <th>key.L</th>\n",
       "      <th>key2.L</th>\n",
       "      <th>Šalis.R</th>\n",
       "      <th>Miestas.R</th>\n",
       "      <th>Gyv.R</th>\n",
       "      <th>key.R</th>\n",
       "      <th>key2.R</th>\n",
       "    </tr>\n",
       "  </thead>\n",
       "  <tbody>\n",
       "    <tr>\n",
       "      <th>0</th>\n",
       "      <td>Lietuva</td>\n",
       "      <td>Vilnius</td>\n",
       "      <td>541</td>\n",
       "      <td>A</td>\n",
       "      <td>B</td>\n",
       "      <td>Estija</td>\n",
       "      <td>Talinas</td>\n",
       "      <td>400</td>\n",
       "      <td>A</td>\n",
       "      <td>W</td>\n",
       "    </tr>\n",
       "    <tr>\n",
       "      <th>1</th>\n",
       "      <td>Lietuva</td>\n",
       "      <td>Kaunas</td>\n",
       "      <td>287</td>\n",
       "      <td>B</td>\n",
       "      <td>C</td>\n",
       "      <td>Estija</td>\n",
       "      <td>Tartu</td>\n",
       "      <td>101</td>\n",
       "      <td>B</td>\n",
       "      <td>C</td>\n",
       "    </tr>\n",
       "    <tr>\n",
       "      <th>2</th>\n",
       "      <td>Lietuva</td>\n",
       "      <td>Klaipėda</td>\n",
       "      <td>147</td>\n",
       "      <td>C</td>\n",
       "      <td>D</td>\n",
       "      <td>Estija</td>\n",
       "      <td>Pernu</td>\n",
       "      <td>46</td>\n",
       "      <td>C</td>\n",
       "      <td>D</td>\n",
       "    </tr>\n",
       "    <tr>\n",
       "      <th>3</th>\n",
       "      <td>Latvija</td>\n",
       "      <td>Ryga</td>\n",
       "      <td>716</td>\n",
       "      <td>D</td>\n",
       "      <td>E</td>\n",
       "      <td>Lenkija</td>\n",
       "      <td>Varšuva</td>\n",
       "      <td>1688</td>\n",
       "      <td>D</td>\n",
       "      <td>E</td>\n",
       "    </tr>\n",
       "    <tr>\n",
       "      <th>4</th>\n",
       "      <td>Latvija</td>\n",
       "      <td>Ventspilis</td>\n",
       "      <td>43</td>\n",
       "      <td>E</td>\n",
       "      <td>F</td>\n",
       "      <td>Lenkija</td>\n",
       "      <td>Vroclavas</td>\n",
       "      <td>638</td>\n",
       "      <td>E</td>\n",
       "      <td>F</td>\n",
       "    </tr>\n",
       "    <tr>\n",
       "      <th>5</th>\n",
       "      <td>Latvija</td>\n",
       "      <td>Daugpilis</td>\n",
       "      <td>105</td>\n",
       "      <td>F</td>\n",
       "      <td>G</td>\n",
       "      <td>Lenkija</td>\n",
       "      <td>Gdanskas</td>\n",
       "      <td>461</td>\n",
       "      <td>F</td>\n",
       "      <td>W</td>\n",
       "    </tr>\n",
       "  </tbody>\n",
       "</table>\n",
       "</div>"
      ],
      "text/plain": [
       "   Šalis.L   Miestas.L  Gyv.L key.L key2.L  Šalis.R  Miestas.R  Gyv.R key.R   \n",
       "0  Lietuva     Vilnius    541     A      B   Estija    Talinas    400     A  \\\n",
       "1  Lietuva      Kaunas    287     B      C   Estija      Tartu    101     B   \n",
       "2  Lietuva    Klaipėda    147     C      D   Estija      Pernu     46     C   \n",
       "3  Latvija        Ryga    716     D      E  Lenkija    Varšuva   1688     D   \n",
       "4  Latvija  Ventspilis     43     E      F  Lenkija  Vroclavas    638     E   \n",
       "5  Latvija   Daugpilis    105     F      G  Lenkija   Gdanskas    461     F   \n",
       "\n",
       "  key2.R  \n",
       "0      W  \n",
       "1      C  \n",
       "2      D  \n",
       "3      E  \n",
       "4      F  \n",
       "5      W  "
      ]
     },
     "execution_count": 97,
     "metadata": {},
     "output_type": "execute_result"
    }
   ],
   "source": [
    "data_main.join(data_right, lsuffix='.L', rsuffix='.R')"
   ]
  },
  {
   "attachments": {},
   "cell_type": "markdown",
   "metadata": {},
   "source": [
    "Kadangi sutampa stulpelių pavadinimai, teko nurodyti lsuffix ir rsuffix. Jeigu indeksas nebūtų identiškas, rezultate gautumėm tik tas eilutes, kurių indeksas persidengia. Dažniausiai vis tik naudosime **.merge()**"
   ]
  }
 ],
 "metadata": {
  "kernelspec": {
   "display_name": "Python 3 (ipykernel)",
   "language": "python",
   "name": "python3"
  },
  "language_info": {
   "codemirror_mode": {
    "name": "ipython",
    "version": 3
   },
   "file_extension": ".py",
   "mimetype": "text/x-python",
   "name": "python",
   "nbconvert_exporter": "python",
   "pygments_lexer": "ipython3",
   "version": "3.10.6"
  }
 },
 "nbformat": 4,
 "nbformat_minor": 4
}

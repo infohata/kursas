{
 "cells": [
  {
   "cell_type": "code",
   "execution_count": 5,
   "metadata": {},
   "outputs": [
    {
     "name": "stdout",
     "output_type": "stream",
     "text": [
      "Labai\n"
     ]
    }
   ],
   "source": [
    "import re\n",
    "tekstas = \"Labai graži vasaros diena.\"\n",
    "regex_get_words = re.compile(r'\\b\\w+\\b')\n",
    "first_word = regex_get_words.search(tekstas)\n",
    "print(first_word.group())"
   ]
  },
  {
   "cell_type": "code",
   "execution_count": 6,
   "metadata": {},
   "outputs": [
    {
     "name": "stdout",
     "output_type": "stream",
     "text": [
      "Labai\n",
      "graži\n",
      "vasaros\n",
      "diena\n"
     ]
    }
   ],
   "source": [
    "all_words = regex_get_words.findall(tekstas)\n",
    "for word in all_words:\n",
    "    print(word)"
   ]
  },
  {
   "cell_type": "code",
   "execution_count": 27,
   "metadata": {},
   "outputs": [],
   "source": [
    "def validate_email(input):\n",
    "    email_regex = re.compile(r\"\\A[A-Z0-9_!#$%&'*+/=?`{|}~^-]+(?:\\.[A-Z0-9_!#$%&'*+/=?`{|}~^-]+)*@[A-Z0-9-]+(?:\\.[A-Z0-9-]+)*\\Z\", flags=re.IGNORECASE)\n",
    "    if email_regex.search(input):\n",
    "        return True\n",
    "    return False\n"
   ]
  },
  {
   "cell_type": "code",
   "execution_count": 28,
   "metadata": {},
   "outputs": [
    {
     "data": {
      "text/plain": [
       "True"
      ]
     },
     "execution_count": 28,
     "metadata": {},
     "output_type": "execute_result"
    }
   ],
   "source": [
    "validate_email(\"infohata@gmail.com\")"
   ]
  },
  {
   "cell_type": "code",
   "execution_count": 35,
   "metadata": {},
   "outputs": [
    {
     "data": {
      "text/plain": [
       "True"
      ]
     },
     "execution_count": 35,
     "metadata": {},
     "output_type": "execute_result"
    }
   ],
   "source": [
    "validate_email(\"grybas.juokingas@gmail.co.uk\")"
   ]
  },
  {
   "cell_type": "code",
   "execution_count": 36,
   "metadata": {},
   "outputs": [],
   "source": [
    "def split_names(name):\n",
    "    pattern = re.compile(r'^([A-Z]\\w{1,3}\\.)\\s([A-Z]\\w+)\\s([A-Z]\\w+)$')\n",
    "    result = pattern.search(name)\n",
    "    if result:\n",
    "        print(f'Visa eilutė: {result.group(0)}')\n",
    "        print(f'Kreipinys: {result.group(1)}')\n",
    "        print(f'Vardas: {result.group(2)}')\n",
    "        print(f'Pavardė: {result.group(3)}')\n",
    "        print('----------------------------------')\n",
    "        print(result.group())\n",
    "        print(result.groups())\n",
    "    else:\n",
    "        print('Įvestis neatitinka šablono')"
   ]
  },
  {
   "cell_type": "code",
   "execution_count": 37,
   "metadata": {},
   "outputs": [
    {
     "name": "stdout",
     "output_type": "stream",
     "text": [
      "Visa eilutė: Mr. Petras Jonauskas\n",
      "Kreipinys: Mr.\n",
      "Vardas: Petras\n",
      "Pavardė: Jonauskas\n",
      "----------------------------------\n",
      "Mr. Petras Jonauskas\n",
      "('Mr.', 'Petras', 'Jonauskas')\n"
     ]
    }
   ],
   "source": [
    "split_names(\"Mr. Petras Jonauskas\")"
   ]
  },
  {
   "cell_type": "code",
   "execution_count": 46,
   "metadata": {},
   "outputs": [],
   "source": [
    "def split_names(name):\n",
    "    pattern = re.compile(r'^(?P<kreipinys>[A-Z]\\w{1,3}\\.)\\s(?P<vardas>[A-Z]\\w+)\\s(?P<pavarde>[A-Z]\\w+)$')\n",
    "    result = pattern.search(name)\n",
    "    if result:\n",
    "        print(f'Visa eilutė: {result.group(0)}')\n",
    "        print(f'Kreipinys: {result.group(\"kreipinys\")}')\n",
    "        print(f'Vardas: {result.group(\"vardas\")}')\n",
    "        print(f'Pavardė: {result.group(\"pavarde\")}')\n",
    "        print('----------------------------------')\n",
    "        print(result.group() == result.group(0))\n",
    "        print(result.groups())\n",
    "    else:\n",
    "        print('Įvestis neatitinka šablono')"
   ]
  },
  {
   "cell_type": "code",
   "execution_count": 47,
   "metadata": {},
   "outputs": [
    {
     "name": "stdout",
     "output_type": "stream",
     "text": [
      "Visa eilutė: Mr. Geras Kintamasis\n",
      "Kreipinys: Mr.\n",
      "Vardas: Geras\n",
      "Pavardė: Kintamasis\n",
      "----------------------------------\n",
      "True\n",
      "('Mr.', 'Geras', 'Kintamasis')\n"
     ]
    }
   ],
   "source": [
    "split_names(\"Mr. Geras Kintamasis\")"
   ]
  },
  {
   "cell_type": "code",
   "execution_count": 56,
   "metadata": {},
   "outputs": [
    {
     "name": "stdout",
     "output_type": "stream",
     "text": [
      "card1: **** **** **** 4456, card2: **** **** **** 1112\n"
     ]
    }
   ],
   "source": [
    "card_numbers = \"card1: 0452 6544 0004 4456, card2: 1234 4567 8910 1112\"\n",
    "regex_oneline = re.compile(r'\\b\\d{4}\\s\\d{4}\\s\\d{4}\\s(\\d{4})\\b')\n",
    "words_oneline = regex_oneline.sub('**** **** **** \\g<1>', card_numbers)\n",
    "print(words_oneline)"
   ]
  },
  {
   "cell_type": "code",
   "execution_count": 60,
   "metadata": {},
   "outputs": [
    {
     "name": "stdout",
     "output_type": "stream",
     "text": [
      "card1: --- 4456, card2: --- 1112\n"
     ]
    }
   ],
   "source": [
    "card_numbers = \"card1: 0452 6544 0004 4456, card2: 1234 4567 8910 1112\"\n",
    "regex_oneline = re.compile(r'\\b\\d{4}\\s\\d{4}\\s\\d{4}\\s(?P<last>\\d{4})\\b')\n",
    "words_oneline = regex_oneline.sub('--- \\g<last>', card_numbers)\n",
    "print(words_oneline)"
   ]
  },
  {
   "cell_type": "code",
   "execution_count": 62,
   "metadata": {},
   "outputs": [
    {
     "name": "stdout",
     "output_type": "stream",
     "text": [
      "['Trumpas', 'tekstas']\n"
     ]
    }
   ],
   "source": [
    "tekstas = '''Trumpas tekstas \n",
    "apie beleką'''\n",
    "regex_oneline = re.compile(r't\\w+', flags=re.IGNORECASE)\n",
    "words_oneline = regex_oneline.findall(tekstas)\n",
    "print(words_oneline)"
   ]
  },
  {
   "cell_type": "code",
   "execution_count": 65,
   "metadata": {},
   "outputs": [
    {
     "name": "stdout",
     "output_type": "stream",
     "text": [
      "['Trumpas']\n",
      "['Trumpas', 'apie']\n"
     ]
    }
   ],
   "source": [
    "regex_oneline = re.compile(r'^\\w+')\n",
    "words_oneline = regex_oneline.findall(tekstas)\n",
    "\n",
    "regex_multiline = re.compile(r'^\\w+', re.MULTILINE)\n",
    "words_multiline = regex_multiline.findall(tekstas)\n",
    "\n",
    "print(words_oneline)\n",
    "print(words_multiline)"
   ]
  },
  {
   "cell_type": "code",
   "execution_count": 69,
   "metadata": {},
   "outputs": [
    {
     "ename": "AttributeError",
     "evalue": "'NoneType' object has no attribute 'groups'",
     "output_type": "error",
     "traceback": [
      "\u001b[0;31m---------------------------------------------------------------------------\u001b[0m",
      "\u001b[0;31mAttributeError\u001b[0m                            Traceback (most recent call last)",
      "Cell \u001b[0;32mIn[69], line 11\u001b[0m\n\u001b[1;32m      2\u001b[0m pattern \u001b[39m=\u001b[39m re\u001b[39m.\u001b[39mcompile(\n\u001b[1;32m      3\u001b[0m \u001b[39m    \u001b[39m\u001b[39mr\u001b[39m\u001b[39m'''\u001b[39;00m\n\u001b[1;32m      4\u001b[0m \u001b[39m    ([A-Z]\\w+)              # vardas\u001b[39;00m\n\u001b[0;32m   (...)\u001b[0m\n\u001b[1;32m      8\u001b[0m \u001b[39m    (\\+370\\s6\\d{2}\\s\\d{5})  # telefono numeris\u001b[39;00m\n\u001b[1;32m      9\u001b[0m \u001b[39m    '''\u001b[39;00m, re\u001b[39m.\u001b[39mVERBOSE \u001b[39mor\u001b[39;00m re\u001b[39m.\u001b[39mIGNORECASE)\n\u001b[1;32m     10\u001b[0m res \u001b[39m=\u001b[39m pattern\u001b[39m.\u001b[39msearch(tekstas)\n\u001b[0;32m---> 11\u001b[0m \u001b[39mprint\u001b[39m(res\u001b[39m.\u001b[39;49mgroups())\n",
      "\u001b[0;31mAttributeError\u001b[0m: 'NoneType' object has no attribute 'groups'"
     ]
    }
   ],
   "source": [
    "tekstas = 'Jonas Jonaitis +370 622 01234'\n",
    "pattern = re.compile(\n",
    "    r'''\n",
    "    ([A-Z]\\w+)              # vardas\n",
    "    \\s                      # tarpas\n",
    "    ([a-z]\\w+)              # pavardė\n",
    "    \\s                      # tarpas\n",
    "    (\\+370\\s6\\d{2}\\s\\d{5})  # telefono numeris\n",
    "    ''', re.VERBOSE | re.IGNORECASE)\n",
    "res = pattern.search(tekstas)\n",
    "print(res.groups())"
   ]
  }
 ],
 "metadata": {
  "kernelspec": {
   "display_name": "venv",
   "language": "python",
   "name": "python3"
  },
  "language_info": {
   "codemirror_mode": {
    "name": "ipython",
    "version": 3
   },
   "file_extension": ".py",
   "mimetype": "text/x-python",
   "name": "python",
   "nbconvert_exporter": "python",
   "pygments_lexer": "ipython3",
   "version": "3.10.6"
  },
  "orig_nbformat": 4
 },
 "nbformat": 4,
 "nbformat_minor": 2
}
